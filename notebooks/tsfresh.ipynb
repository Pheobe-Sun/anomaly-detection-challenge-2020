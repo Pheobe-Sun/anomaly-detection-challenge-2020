{
 "cells": [
  {
   "cell_type": "code",
   "execution_count": 1,
   "metadata": {},
   "outputs": [],
   "source": [
    "# Uncomment below if running in Colab\n",
    "# !pip install tsfresh\n",
    "import os\n",
    "import pandas as pd\n",
    "import matplotlib.pylab as plt\n",
    "%matplotlib inline\n",
    "\n",
    "# using tsfresh to extract and filter features\n",
    "from tsfresh import extract_features, extract_relevant_features, select_features\n",
    "from tsfresh.utilities.dataframe_functions import impute\n",
    "from tsfresh.feature_extraction import ComprehensiveFCParameters\n",
    "\n",
    "# for evaluation\n",
    "from sklearn.tree import DecisionTreeClassifier\n",
    "from sklearn.model_selection import train_test_split\n",
    "from sklearn.metrics import classification_report"
   ]
  },
  {
   "cell_type": "markdown",
   "metadata": {},
   "source": [
    "# Preparing data "
   ]
  },
  {
   "cell_type": "code",
   "execution_count": 4,
   "metadata": {
    "collapsed": true
   },
   "outputs": [
    {
     "data": {
      "text/html": [
       "<div>\n",
       "<style scoped>\n",
       "    .dataframe tbody tr th:only-of-type {\n",
       "        vertical-align: middle;\n",
       "    }\n",
       "\n",
       "    .dataframe tbody tr th {\n",
       "        vertical-align: top;\n",
       "    }\n",
       "\n",
       "    .dataframe thead th {\n",
       "        text-align: right;\n",
       "    }\n",
       "</style>\n",
       "<table border=\"1\" class=\"dataframe\">\n",
       "  <thead>\n",
       "    <tr style=\"text-align: right;\">\n",
       "      <th></th>\n",
       "      <th>timestamp</th>\n",
       "      <th>kpi_value</th>\n",
       "      <th>anomaly_label</th>\n",
       "    </tr>\n",
       "  </thead>\n",
       "  <tbody>\n",
       "    <tr>\n",
       "      <th>0</th>\n",
       "      <td>2014-04-01 00:00:00</td>\n",
       "      <td>18.622185</td>\n",
       "      <td>0</td>\n",
       "    </tr>\n",
       "    <tr>\n",
       "      <th>1</th>\n",
       "      <td>2014-04-01 00:05:00</td>\n",
       "      <td>8.163417</td>\n",
       "      <td>0</td>\n",
       "    </tr>\n",
       "    <tr>\n",
       "      <th>2</th>\n",
       "      <td>2014-04-01 00:10:00</td>\n",
       "      <td>13.292383</td>\n",
       "      <td>0</td>\n",
       "    </tr>\n",
       "    <tr>\n",
       "      <th>3</th>\n",
       "      <td>2014-04-01 00:15:00</td>\n",
       "      <td>11.667046</td>\n",
       "      <td>0</td>\n",
       "    </tr>\n",
       "    <tr>\n",
       "      <th>4</th>\n",
       "      <td>2014-04-01 00:20:00</td>\n",
       "      <td>12.940358</td>\n",
       "      <td>0</td>\n",
       "    </tr>\n",
       "    <tr>\n",
       "      <th>...</th>\n",
       "      <td>...</td>\n",
       "      <td>...</td>\n",
       "      <td>...</td>\n",
       "    </tr>\n",
       "    <tr>\n",
       "      <th>4027</th>\n",
       "      <td>2014-04-14 23:35:00</td>\n",
       "      <td>10.689582</td>\n",
       "      <td>0</td>\n",
       "    </tr>\n",
       "    <tr>\n",
       "      <th>4028</th>\n",
       "      <td>2014-04-14 23:40:00</td>\n",
       "      <td>9.507657</td>\n",
       "      <td>0</td>\n",
       "    </tr>\n",
       "    <tr>\n",
       "      <th>4029</th>\n",
       "      <td>2014-04-14 23:45:00</td>\n",
       "      <td>17.339780</td>\n",
       "      <td>0</td>\n",
       "    </tr>\n",
       "    <tr>\n",
       "      <th>4030</th>\n",
       "      <td>2014-04-14 23:50:00</td>\n",
       "      <td>14.781273</td>\n",
       "      <td>0</td>\n",
       "    </tr>\n",
       "    <tr>\n",
       "      <th>4031</th>\n",
       "      <td>2014-04-14 23:55:00</td>\n",
       "      <td>10.051621</td>\n",
       "      <td>0</td>\n",
       "    </tr>\n",
       "  </tbody>\n",
       "</table>\n",
       "<p>4032 rows × 3 columns</p>\n",
       "</div>"
      ],
      "text/plain": [
       "                timestamp  kpi_value  anomaly_label\n",
       "0     2014-04-01 00:00:00  18.622185              0\n",
       "1     2014-04-01 00:05:00   8.163417              0\n",
       "2     2014-04-01 00:10:00  13.292383              0\n",
       "3     2014-04-01 00:15:00  11.667046              0\n",
       "4     2014-04-01 00:20:00  12.940358              0\n",
       "...                   ...        ...            ...\n",
       "4027  2014-04-14 23:35:00  10.689582              0\n",
       "4028  2014-04-14 23:40:00   9.507657              0\n",
       "4029  2014-04-14 23:45:00  17.339780              0\n",
       "4030  2014-04-14 23:50:00  14.781273              0\n",
       "4031  2014-04-14 23:55:00  10.051621              0\n",
       "\n",
       "[4032 rows x 3 columns]"
      ]
     },
     "execution_count": 4,
     "metadata": {},
     "output_type": "execute_result"
    }
   ],
   "source": [
    "# Comment out if running in Colab\n",
    "# work_dir = os.getcwd()\n",
    "data_dir =\"../../for_students/data_v2\"\n",
    "train_dir = os.path.join(data_dir, 'training')\n",
    "train_str = os.path.join(train_dir, 'training_{}.csv')"
   ]
  },
  {
   "cell_type": "code",
   "execution_count": null,
   "metadata": {},
   "outputs": [],
   "source": [
    "# Uncomment below if running in Colab\n",
    "# work_dir = os.getcwd()\n",
    "# train_str = os.path.join(work_dir, 'training_{}.csv')"
   ]
  },
  {
   "cell_type": "markdown",
   "metadata": {},
   "source": [
    "## Testing on a single dataset\n",
    "Use `roll_time_series(...., max_timeshift=100, min_timeshift=10)`\n",
    "https://tsfresh.readthedocs.io/en/v0.7.1/text/rolling.html"
   ]
  },
  {
   "cell_type": "code",
   "execution_count": null,
   "metadata": {},
   "outputs": [],
   "source": [
    "from tsfresh.utilities.dataframe_functions import roll_time_series, make_forecasting_frame\n",
    "test_2 = pd.read_csv(train_str.format(2))\n",
    "\n",
    "# tsfresh needs (id, time info (for sorting), and features) to extract features\n",
    "test_2[\"id\"] = 1 # This number does not matter in our case. Keep them constant across dataset\n",
    "\n",
    "test_2_rolled = roll_time_series(test_2, column_id=\"id\", column_sort=\"timestamp\", max_timeshift=100, min_timeshift=10)\n",
    "\n",
    "print(test_2_rolled.shape)\n",
    "print(test_2_rolled.head(15))"
   ]
  },
  {
   "cell_type": "markdown",
   "metadata": {},
   "source": [
    "## Testing on all datasets (extracting toooooooo slow)"
   ]
  },
  {
   "cell_type": "code",
   "execution_count": 21,
   "metadata": {},
   "outputs": [
    {
     "name": "stdout",
     "output_type": "stream",
     "text": [
      "(54337, 5)\n"
     ]
    }
   ],
   "source": [
    "# Extracting features from ALL raw dataset do not work! \n",
    "\n",
    "# train_df = pd.DataFrame()\n",
    "# for i in [1,2,3,4,5,100]:\n",
    "#     train_df_i = pd.read_csv(train_str.format(i))\n",
    "#     # each training dataset is assigned an id\n",
    "#     train_df_i[\"id\"] = i\n",
    "# #     print(\"dataset {}: {}\".format(i, train_df_i.shape))\n",
    "#     train_df = train_df.append(train_df_i)\n",
    "# print(train_df.shape)"
   ]
  },
  {
   "cell_type": "code",
   "execution_count": 25,
   "metadata": {
    "collapsed": true
   },
   "outputs": [
    {
     "data": {
      "text/html": [
       "<div>\n",
       "<style scoped>\n",
       "    .dataframe tbody tr th:only-of-type {\n",
       "        vertical-align: middle;\n",
       "    }\n",
       "\n",
       "    .dataframe tbody tr th {\n",
       "        vertical-align: top;\n",
       "    }\n",
       "\n",
       "    .dataframe thead th {\n",
       "        text-align: right;\n",
       "    }\n",
       "</style>\n",
       "<table border=\"1\" class=\"dataframe\">\n",
       "  <thead>\n",
       "    <tr style=\"text-align: right;\">\n",
       "      <th></th>\n",
       "      <th>timestamp</th>\n",
       "      <th>kpi_value</th>\n",
       "      <th>anomaly_label</th>\n",
       "      <th>id</th>\n",
       "    </tr>\n",
       "  </thead>\n",
       "  <tbody>\n",
       "    <tr>\n",
       "      <th>0</th>\n",
       "      <td>2014-04-01 00:00:00</td>\n",
       "      <td>18.622185</td>\n",
       "      <td>0</td>\n",
       "      <td>1</td>\n",
       "    </tr>\n",
       "    <tr>\n",
       "      <th>1</th>\n",
       "      <td>2014-04-01 00:05:00</td>\n",
       "      <td>8.163417</td>\n",
       "      <td>0</td>\n",
       "      <td>1</td>\n",
       "    </tr>\n",
       "    <tr>\n",
       "      <th>2</th>\n",
       "      <td>2014-04-01 00:10:00</td>\n",
       "      <td>13.292383</td>\n",
       "      <td>0</td>\n",
       "      <td>1</td>\n",
       "    </tr>\n",
       "    <tr>\n",
       "      <th>3</th>\n",
       "      <td>2014-04-01 00:15:00</td>\n",
       "      <td>11.667046</td>\n",
       "      <td>0</td>\n",
       "      <td>1</td>\n",
       "    </tr>\n",
       "    <tr>\n",
       "      <th>4</th>\n",
       "      <td>2014-04-01 00:20:00</td>\n",
       "      <td>12.940358</td>\n",
       "      <td>0</td>\n",
       "      <td>1</td>\n",
       "    </tr>\n",
       "    <tr>\n",
       "      <th>...</th>\n",
       "      <td>...</td>\n",
       "      <td>...</td>\n",
       "      <td>...</td>\n",
       "      <td>...</td>\n",
       "    </tr>\n",
       "    <tr>\n",
       "      <th>20154</th>\n",
       "      <td>2020-08-28T01:56:00.000+02:00</td>\n",
       "      <td>0.998149</td>\n",
       "      <td>0</td>\n",
       "      <td>100</td>\n",
       "    </tr>\n",
       "    <tr>\n",
       "      <th>20155</th>\n",
       "      <td>2020-08-28T01:57:00.000+02:00</td>\n",
       "      <td>0.998340</td>\n",
       "      <td>0</td>\n",
       "      <td>100</td>\n",
       "    </tr>\n",
       "    <tr>\n",
       "      <th>20156</th>\n",
       "      <td>2020-08-28T01:58:00.000+02:00</td>\n",
       "      <td>0.998364</td>\n",
       "      <td>0</td>\n",
       "      <td>100</td>\n",
       "    </tr>\n",
       "    <tr>\n",
       "      <th>20157</th>\n",
       "      <td>2020-08-28T01:59:00.000+02:00</td>\n",
       "      <td>0.998428</td>\n",
       "      <td>0</td>\n",
       "      <td>100</td>\n",
       "    </tr>\n",
       "    <tr>\n",
       "      <th>20158</th>\n",
       "      <td>2020-08-28T02:00:00.000+02:00</td>\n",
       "      <td>0.997407</td>\n",
       "      <td>0</td>\n",
       "      <td>100</td>\n",
       "    </tr>\n",
       "  </tbody>\n",
       "</table>\n",
       "<p>54337 rows × 4 columns</p>\n",
       "</div>"
      ],
      "text/plain": [
       "                           timestamp  kpi_value  anomaly_label   id\n",
       "0                2014-04-01 00:00:00  18.622185              0    1\n",
       "1                2014-04-01 00:05:00   8.163417              0    1\n",
       "2                2014-04-01 00:10:00  13.292383              0    1\n",
       "3                2014-04-01 00:15:00  11.667046              0    1\n",
       "4                2014-04-01 00:20:00  12.940358              0    1\n",
       "...                              ...        ...            ...  ...\n",
       "20154  2020-08-28T01:56:00.000+02:00   0.998149              0  100\n",
       "20155  2020-08-28T01:57:00.000+02:00   0.998340              0  100\n",
       "20156  2020-08-28T01:58:00.000+02:00   0.998364              0  100\n",
       "20157  2020-08-28T01:59:00.000+02:00   0.998428              0  100\n",
       "20158  2020-08-28T02:00:00.000+02:00   0.997407              0  100\n",
       "\n",
       "[54337 rows x 4 columns]"
      ]
     },
     "execution_count": 25,
     "metadata": {},
     "output_type": "execute_result"
    }
   ],
   "source": [
    "# tsfresh needs (id, time info (for sorting), and features) to extract features\n",
    "# train_df = train_df.drop(\"request_count\", axis=1)\n",
    "# train_df"
   ]
  },
  {
   "cell_type": "code",
   "execution_count": 26,
   "metadata": {
    "collapsed": true
   },
   "outputs": [
    {
     "name": "stdout",
     "output_type": "stream",
     "text": [
      "                           timestamp  kpi_value   id\n",
      "0                2014-04-01 00:00:00  18.622185    1\n",
      "1                2014-04-01 00:05:00   8.163417    1\n",
      "2                2014-04-01 00:10:00  13.292383    1\n",
      "3                2014-04-01 00:15:00  11.667046    1\n",
      "4                2014-04-01 00:20:00  12.940358    1\n",
      "...                              ...        ...  ...\n",
      "20154  2020-08-28T01:56:00.000+02:00   0.998149  100\n",
      "20155  2020-08-28T01:57:00.000+02:00   0.998340  100\n",
      "20156  2020-08-28T01:58:00.000+02:00   0.998364  100\n",
      "20157  2020-08-28T01:59:00.000+02:00   0.998428  100\n",
      "20158  2020-08-28T02:00:00.000+02:00   0.997407  100\n",
      "\n",
      "[54337 rows x 3 columns]\n",
      "0        0\n",
      "1        0\n",
      "2        0\n",
      "3        0\n",
      "4        0\n",
      "        ..\n",
      "20154    0\n",
      "20155    0\n",
      "20156    0\n",
      "20157    0\n",
      "20158    0\n",
      "Name: anomaly_label, Length: 54337, dtype: int64\n"
     ]
    }
   ],
   "source": [
    "# y = train_df.pop(\"anomaly_label\")\n",
    "# X_raw = train_df # preparing dataframe with (id, time, feature(s)) for tsfresh\n",
    "# print(X_raw)\n",
    "# print(y)"
   ]
  },
  {
   "cell_type": "markdown",
   "metadata": {},
   "source": [
    "# Feature extraction"
   ]
  },
  {
   "cell_type": "code",
   "execution_count": null,
   "metadata": {},
   "outputs": [],
   "source": [
    "# Using rolling time-series as input with windows ranging from 10-100, see `roll_time_series()`\n",
    "test_2_x = test_2_rolled.drop(\"anomaly_label\", axis=1)\n",
    "print(test_2_x.shape)"
   ]
  },
  {
   "cell_type": "code",
   "execution_count": null,
   "metadata": {},
   "outputs": [
    {
     "name": "stderr",
     "output_type": "stream",
     "text": [
      "Feature Extraction:  50%|████████████████████████████████                                | 3/6 [00:14<00:20,  6.80s/it]"
     ]
    }
   ],
   "source": [
    "# https://tsfresh.readthedocs.io/en/latest/text/feature_extraction_settings.html#for-the-advanced-how-do-i-set-the-parameters-for-all-kind-of-time-series\n",
    "\n",
    "extraction_settings = ComprehensiveFCParameters()\n",
    "\n",
    "X_2 = extract_features(test_2_x, column_id=\"id\", column_sort=\"timestamp\", \n",
    "                     default_fc_parameters=extraction_settings, impute_function=impute)\n",
    "extraction_settings = ComprehensiveFCParameters()\n",
    "\n",
    "# the return of X_1 has the dimension of raw feature (unrolled) - 10 (the smallest window)\n",
    "print(X_2.shape)"
   ]
  },
  {
   "cell_type": "code",
   "execution_count": 11,
   "metadata": {},
   "outputs": [
    {
     "data": {
      "text/html": [
       "<div>\n",
       "<style scoped>\n",
       "    .dataframe tbody tr th:only-of-type {\n",
       "        vertical-align: middle;\n",
       "    }\n",
       "\n",
       "    .dataframe tbody tr th {\n",
       "        vertical-align: top;\n",
       "    }\n",
       "\n",
       "    .dataframe thead th {\n",
       "        text-align: right;\n",
       "    }\n",
       "</style>\n",
       "<table border=\"1\" class=\"dataframe\">\n",
       "  <thead>\n",
       "    <tr style=\"text-align: right;\">\n",
       "      <th></th>\n",
       "      <th>anomaly_label__variance_larger_than_standard_deviation</th>\n",
       "      <th>anomaly_label__has_duplicate_max</th>\n",
       "      <th>anomaly_label__has_duplicate_min</th>\n",
       "      <th>anomaly_label__has_duplicate</th>\n",
       "      <th>anomaly_label__sum_values</th>\n",
       "      <th>anomaly_label__abs_energy</th>\n",
       "      <th>anomaly_label__mean_abs_change</th>\n",
       "      <th>anomaly_label__mean_change</th>\n",
       "      <th>anomaly_label__mean_second_derivative_central</th>\n",
       "      <th>anomaly_label__median</th>\n",
       "      <th>...</th>\n",
       "      <th>kpi_value__fourier_entropy__bins_2</th>\n",
       "      <th>kpi_value__fourier_entropy__bins_3</th>\n",
       "      <th>kpi_value__fourier_entropy__bins_5</th>\n",
       "      <th>kpi_value__fourier_entropy__bins_10</th>\n",
       "      <th>kpi_value__fourier_entropy__bins_100</th>\n",
       "      <th>kpi_value__permutation_entropy__dimension_3__tau_1</th>\n",
       "      <th>kpi_value__permutation_entropy__dimension_4__tau_1</th>\n",
       "      <th>kpi_value__permutation_entropy__dimension_5__tau_1</th>\n",
       "      <th>kpi_value__permutation_entropy__dimension_6__tau_1</th>\n",
       "      <th>kpi_value__permutation_entropy__dimension_7__tau_1</th>\n",
       "    </tr>\n",
       "  </thead>\n",
       "  <tbody>\n",
       "    <tr>\n",
       "      <th>1</th>\n",
       "      <td>0.0</td>\n",
       "      <td>1.0</td>\n",
       "      <td>1.0</td>\n",
       "      <td>1.0</td>\n",
       "      <td>0.0</td>\n",
       "      <td>0.0</td>\n",
       "      <td>0.0</td>\n",
       "      <td>0.0</td>\n",
       "      <td>0.0</td>\n",
       "      <td>0.0</td>\n",
       "      <td>...</td>\n",
       "      <td>0.468798</td>\n",
       "      <td>0.772515</td>\n",
       "      <td>1.024933</td>\n",
       "      <td>1.701631</td>\n",
       "      <td>3.691585</td>\n",
       "      <td>1.791293</td>\n",
       "      <td>3.176102</td>\n",
       "      <td>4.77284</td>\n",
       "      <td>6.482125</td>\n",
       "      <td>7.796024</td>\n",
       "    </tr>\n",
       "  </tbody>\n",
       "</table>\n",
       "<p>1 rows × 1558 columns</p>\n",
       "</div>"
      ],
      "text/plain": [
       "   anomaly_label__variance_larger_than_standard_deviation  \\\n",
       "1                                                0.0        \n",
       "\n",
       "   anomaly_label__has_duplicate_max  anomaly_label__has_duplicate_min  \\\n",
       "1                               1.0                               1.0   \n",
       "\n",
       "   anomaly_label__has_duplicate  anomaly_label__sum_values  \\\n",
       "1                           1.0                        0.0   \n",
       "\n",
       "   anomaly_label__abs_energy  anomaly_label__mean_abs_change  \\\n",
       "1                        0.0                             0.0   \n",
       "\n",
       "   anomaly_label__mean_change  anomaly_label__mean_second_derivative_central  \\\n",
       "1                         0.0                                            0.0   \n",
       "\n",
       "   anomaly_label__median  ...  kpi_value__fourier_entropy__bins_2  \\\n",
       "1                    0.0  ...                            0.468798   \n",
       "\n",
       "   kpi_value__fourier_entropy__bins_3  kpi_value__fourier_entropy__bins_5  \\\n",
       "1                            0.772515                            1.024933   \n",
       "\n",
       "   kpi_value__fourier_entropy__bins_10  kpi_value__fourier_entropy__bins_100  \\\n",
       "1                             1.701631                              3.691585   \n",
       "\n",
       "   kpi_value__permutation_entropy__dimension_3__tau_1  \\\n",
       "1                                           1.791293    \n",
       "\n",
       "   kpi_value__permutation_entropy__dimension_4__tau_1  \\\n",
       "1                                           3.176102    \n",
       "\n",
       "   kpi_value__permutation_entropy__dimension_5__tau_1  \\\n",
       "1                                            4.77284    \n",
       "\n",
       "   kpi_value__permutation_entropy__dimension_6__tau_1  \\\n",
       "1                                           6.482125    \n",
       "\n",
       "   kpi_value__permutation_entropy__dimension_7__tau_1  \n",
       "1                                           7.796024   \n",
       "\n",
       "[1 rows x 1558 columns]"
      ]
     },
     "execution_count": 11,
     "metadata": {},
     "output_type": "execute_result"
    }
   ],
   "source": [
    "X_1.head() # All features extracted"
   ]
  },
  {
   "cell_type": "markdown",
   "metadata": {},
   "source": [
    "# Feature selection"
   ]
  },
  {
   "cell_type": "code",
   "execution_count": null,
   "metadata": {},
   "outputs": [],
   "source": [
    "# Using unrolled y, drop the first 10 rows (as the first 10 rows of feature collapsed as a feature previously)\n",
    "test_2_y = test_2[\"anomaly_label\"].loc[10:]\n",
    "print(test_2_y.head(5))\n",
    "print(test_2_y.shape)\n",
    "print(type(test_2_y))"
   ]
  },
  {
   "cell_type": "code",
   "execution_count": null,
   "metadata": {},
   "outputs": [],
   "source": [
    "X_filtered = select_features(X_2, test_2_y) # features will be selected based on y\n",
    "print(X_filtered.shape)"
   ]
  },
  {
   "cell_type": "code",
   "execution_count": null,
   "metadata": {},
   "outputs": [],
   "source": [
    "X_filtered.head()"
   ]
  },
  {
   "cell_type": "markdown",
   "metadata": {},
   "source": [
    "# Alternatively \"Extract & Filter\" in One Step\n",
    "(*I'm not sure if this works with rolling)"
   ]
  },
  {
   "cell_type": "code",
   "execution_count": null,
   "metadata": {},
   "outputs": [],
   "source": [
    "X_filtered_2 = extract_relevant_features(df, y, column_id='id', column_sort='time',\n",
    "                                         default_fc_parameters=extraction_settings)"
   ]
  },
  {
   "cell_type": "code",
   "execution_count": null,
   "metadata": {},
   "outputs": [],
   "source": [
    "(X_filtered.columns == X_filtered_2.columns).all()"
   ]
  },
  {
   "cell_type": "markdown",
   "metadata": {},
   "source": [
    "# Evaluation"
   ]
  },
  {
   "cell_type": "code",
   "execution_count": null,
   "metadata": {},
   "outputs": [],
   "source": [
    "# Evaluate how these features perform in classifiers such as random forest, DTree, KNN ect.\n",
    "# https://github.com/blue-yonder/tsfresh/tree/main/notebooks/examples"
   ]
  }
 ],
 "metadata": {
  "kernelspec": {
   "display_name": "Python 3",
   "language": "python",
   "name": "python3"
  },
  "language_info": {
   "codemirror_mode": {
    "name": "ipython",
    "version": 3
   },
   "file_extension": ".py",
   "mimetype": "text/x-python",
   "name": "python",
   "nbconvert_exporter": "python",
   "pygments_lexer": "ipython3",
   "version": "3.6.10"
  },
  "toc": {
   "base_numbering": 1,
   "nav_menu": {},
   "number_sections": true,
   "sideBar": true,
   "skip_h1_title": false,
   "title_cell": "Table of Contents",
   "title_sidebar": "Contents",
   "toc_cell": false,
   "toc_position": {},
   "toc_section_display": true,
   "toc_window_display": false
  },
  "varInspector": {
   "cols": {
    "lenName": 16,
    "lenType": 16,
    "lenVar": 40
   },
   "kernels_config": {
    "python": {
     "delete_cmd_postfix": "",
     "delete_cmd_prefix": "del ",
     "library": "var_list.py",
     "varRefreshCmd": "print(var_dic_list())"
    },
    "r": {
     "delete_cmd_postfix": ") ",
     "delete_cmd_prefix": "rm(",
     "library": "var_list.r",
     "varRefreshCmd": "cat(var_dic_list()) "
    }
   },
   "types_to_exclude": [
    "module",
    "function",
    "builtin_function_or_method",
    "instance",
    "_Feature"
   ],
   "window_display": false
  }
 },
 "nbformat": 4,
 "nbformat_minor": 4
}
