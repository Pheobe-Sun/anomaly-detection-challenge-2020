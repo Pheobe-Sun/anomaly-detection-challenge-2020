{
 "cells": [
  {
   "cell_type": "code",
   "execution_count": 8,
   "metadata": {},
   "outputs": [],
   "source": [
    "import os\n",
    "import sys\n",
    "import glob\n",
    "import pandas as pd\n",
    "import numpy as np\n",
    "import matplotlib.pyplot as plt \n",
    "from sklearn.svm import OneClassSVM\n",
    "from sklearn.ensemble import IsolationForest\n",
    "from sklearn.metrics import f1_score, make_scorer\n",
    "from sklearn.preprocessing import MinMaxScaler, StandardScaler\n",
    "from sklearn.model_selection import train_test_split, cross_val_score, StratifiedKFold\n",
    "f1_scorer = make_scorer(f1_score, average=\"macro\")\n",
    "from sklearn.metrics import roc_auc_score, roc_curve\n",
    "from torch.optim import Adam\n",
    "from sklearn.mixture import GaussianMixture\n",
    "# becuase we're in a nested folder...\n",
    "sys.path.append('../')\n",
    "\n",
    "from utils.preprocess import *\n",
    "from models.AEAD import AEAD\n",
    "from models.CAEAD import CAEAD"
   ]
  },
  {
   "cell_type": "markdown",
   "metadata": {},
   "source": [
    "## TAKE AWAY FROM WEEKEND: WINDOW-LEVEL NORMALIZATION PLAYS VERY NICELY WITH NEURAL NETWORKS. "
   ]
  },
  {
   "cell_type": "code",
   "execution_count": 9,
   "metadata": {},
   "outputs": [],
   "source": [
    "data_dir =\"../for_students/data_v2\""
   ]
  },
  {
   "cell_type": "code",
   "execution_count": 10,
   "metadata": {},
   "outputs": [],
   "source": [
    "def load_data(data_dir, window_size, window_func):\n",
    "    '''\n",
    "    data_dir (str): Base directory of data \n",
    "    window_size (str): Window size for input examples\n",
    "    window_func (str): Window function reference as defined in utils.preprocess\n",
    "                       Option are either 'window' or 'window_func'\n",
    "    '''\n",
    "    train_dir = os.path.join(data_dir, 'training')\n",
    "\n",
    "    train_xs = []\n",
    "    train_ys = []\n",
    "    for i in glob.glob(os.path.join(train_dir, \"*.csv\")):\n",
    "        train_df_i = pd.read_csv(i)\n",
    "        train_xi = window_func(train_df_i.kpi_value.values, window_size)\n",
    "        train_xs.append(train_xi)\n",
    "        train_ys.append(train_df_i.anomaly_label.values)\n",
    "    x_train = np.concatenate(train_xs)\n",
    "    y_train = np.concatenate(train_ys)\n",
    "    assert len(x_train) == len(y_train)\n",
    "    \n",
    "    test_xs = []\n",
    "    test_ys = []\n",
    "    for i in glob.glob(os.path.join(data_dir, \"*.csv\")):\n",
    "        test_df_i = pd.read_csv(i)\n",
    "        test_xi = window_func(test_df_i.values[:,1], window_size)\n",
    "        test_xs.append(test_xi)\n",
    "    x_test = np.concatenate(test_xs)\n",
    "    print(\"Train x shape: {}\\nTrain y shape: {}\\n\\nTest x shape: {}\".format(x_train.shape, y_train.shape, x_test.shape))\n",
    "    return x_train, y_train, x_test\n",
    "\n",
    "def window_min_max(x):\n",
    "    x_min = x.min(axis=1).reshape(-1, 1)\n",
    "    x_max = x.max(axis=1).reshape(-1, 1)\n",
    "    all_zeros = 0\n",
    "    for i in range(len(x)):\n",
    "        if abs(x_min[i]-x_max[i])> 1e-10:\n",
    "            x[i] =  (x[i] - x_min[i])/(x_max[i] - x_min[i])\n",
    "        else:\n",
    "            # If all values are the same, keep al values are zero. \n",
    "            x[i] = 0\n",
    "            all_zeros+=1\n",
    "    print(\"Percentage of windows that are null:\", 100*(all_zeros/len(x)))\n",
    "    return x"
   ]
  },
  {
   "cell_type": "markdown",
   "metadata": {},
   "source": [
    "### Window Data"
   ]
  },
  {
   "cell_type": "code",
   "execution_count": 11,
   "metadata": {},
   "outputs": [
    {
     "name": "stdout",
     "output_type": "stream",
     "text": [
      "Train x shape: (54337, 256)\n",
      "Train y shape: (54337,)\n",
      "\n",
      "Test x shape: (205610, 256)\n",
      "Percentage of windows that are null: 0.2539705909417156\n",
      "Percentage of windows that are null: 10.760663391858373\n"
     ]
    }
   ],
   "source": [
    "x_train, y_train, x_test = load_data(data_dir, 256, window)\n",
    "# Window level normalisation\n",
    "x_train = window_min_max(x_train)\n",
    "\n",
    "x_test = window_min_max(x_test)"
   ]
  },
  {
   "cell_type": "code",
   "execution_count": 5,
   "metadata": {},
   "outputs": [],
   "source": [
    "# Cross val incides\n",
    "skf = StratifiedKFold(n_splits=5)"
   ]
  },
  {
   "cell_type": "code",
   "execution_count": null,
   "metadata": {},
   "outputs": [],
   "source": [
    "## We may be able to get min max parameters from training set. We should do cross validation also. \n",
    "# minmax_scalar = MinMaxScaler()\n",
    "# minmax_scalar.fit(x_train_normal)\n",
    "# x_train_normal_min_max = minmax_scalar.transform(x_train_normal)\n",
    "# x_train_min_max = minmax_scalar.transform(x_train)"
   ]
  },
  {
   "cell_type": "markdown",
   "metadata": {},
   "source": [
    "### OCSVM"
   ]
  },
  {
   "cell_type": "code",
   "execution_count": null,
   "metadata": {},
   "outputs": [],
   "source": [
    "for train_index, val_index in skf.split(x_train, y_train):\n",
    "    x_train_fold = x_train[train_index]\n",
    "    y_train_fold = y_train[train_index]\n",
    "    x_train_normal = x_train_fold[y_train_fold == 0]\n",
    "\n",
    "    x_val_fold = x_train[val_index]\n",
    "    y_val_fold = y_train[val_index]\n",
    "    \n",
    "    # Train on normal data\n",
    "    ocsvm = OneClassSVM(gamma='auto').fit(x_train_normal)\n",
    "    # check performance on training set for sanity check. \n",
    "    y_pred_ocsvm = ocsvm.predict(x_val_fold)\n",
    "\n",
    "    y_pred_ocsvm[y_pred_ocsvm==1] = 0\n",
    "    y_pred_ocsvm[y_pred_ocsvm==-1] = 1\n",
    "    ocsvm_f1 = f1_score(y_val_fold, y_pred_ocsvm, average='macro')\n",
    "    print(ocsvm_f1)"
   ]
  },
  {
   "cell_type": "markdown",
   "metadata": {},
   "source": [
    "### iForest"
   ]
  },
  {
   "cell_type": "code",
   "execution_count": null,
   "metadata": {},
   "outputs": [],
   "source": [
    "for train_index, val_index in skf.split(x_train, y_train):\n",
    "    x_train_fold = x_train[train_index]\n",
    "    y_train_fold = y_train[train_index]\n",
    "    x_train_normal = x_train_fold[y_train_fold == 0]\n",
    "\n",
    "    x_val_fold = x_train[val_index]\n",
    "    y_val_fold = y_train[val_index]\n",
    "    \n",
    "    # Train on normal data\n",
    "    iforest = IsolationForest().fit(x_train_normal)\n",
    "    y_pred_iforest = iforest.predict(x_val_fold)\n",
    "\n",
    "    y_pred_iforest[y_pred_iforest==1] = 0\n",
    "    y_pred_iforest[y_pred_iforest==-1] = 1\n",
    "    iforest_f1 = f1_score(y_val_fold, y_pred_iforest, average='macro')\n",
    "    print(iforest_f1)"
   ]
  },
  {
   "cell_type": "markdown",
   "metadata": {},
   "source": [
    "### Normal AE (Without finetuning)"
   ]
  },
  {
   "cell_type": "code",
   "execution_count": null,
   "metadata": {},
   "outputs": [],
   "source": [
    "aead_aucs = []\n",
    "for train_index, val_index in skf.split(x_train, y_train):\n",
    "    x_train_fold = x_train[train_index]\n",
    "    y_train_fold = y_train[train_index]\n",
    "    x_train_normal = x_train_fold[y_train_fold == 0]\n",
    "    y_train_normal = y_train_fold[y_train_fold == 0]\n",
    "\n",
    "    \n",
    "    x_val_fold = x_train[val_index]\n",
    "    y_val_fold = y_train[val_index]\n",
    "    \n",
    "    x_train_fold = window_min_max(x_train_fold)\n",
    "    x_val_fold = window_min_max(x_val_fold)\n",
    "\n",
    "    aead = AEAD(100,256, 0.0001, 20, 'cpu', Adam).fit(x_train_normal,  y_train_normal)\n",
    "    y_pred_aead = aead.predict(x_val_fold)\n",
    "    val_auc = roc_auc_score(y_val_fold, y_pred_aead)\n",
    "    print(sum(y_val_fold ))\n",
    "    aead_aucs.append(val_auc)\n",
    "    print(val_auc)\n",
    "print(np.mean(aead_aucs))"
   ]
  },
  {
   "cell_type": "markdown",
   "metadata": {},
   "source": [
    "## AE with positive penalty (Fancy cost function)\n",
    "\n",
    "## FANCY COST FUNCTION \n",
    "### (I don't know if this exists already, I thought of it while lazing around the house) I think it was inspired by this paper: https://papers.nips.cc/paper/1998/file/b710915795b9e9c02cf10d6d2bdb688c-Paper.pdf ...maybe...anyway, it goes like this:\n",
    "\n",
    "$\\Delta = \\frac{1}{n}\\sum^{n}_{i=1}(X - \\hat{X})$ => i.e. normal Mean squared error used for standard AEs\n",
    "    \n",
    "- where $n$ is the number of examples, $X$ is the input, $\\hat{X}$.\n",
    "\n",
    "$(1-y)\\Delta - y\\Delta$\n",
    "    \n",
    "- where $y$ is the ground truth binary label. \n",
    "\n",
    "This looks a little similar to binary cross entropy but is not for classification. Basically we penalise the autoencoder for recontructing normal examples well. The algorithms below need thresholds for F1 scores but I'll work that out later. "
   ]
  },
  {
   "cell_type": "code",
   "execution_count": 6,
   "metadata": {},
   "outputs": [
    {
     "name": "stdout",
     "output_type": "stream",
     "text": [
      "Percentage of windows that are null: 0.31746762060318845\n",
      "Percentage of windows that are null: 0.0\n",
      "_CAEAD(\n",
      "  (en_1): Conv1d(1, 64, kernel_size=(3,), stride=(1,), padding=(1,))\n",
      "  (pool1): MaxPool1d(kernel_size=2, stride=2, padding=0, dilation=1, ceil_mode=False)\n",
      "  (en_2): Conv1d(64, 32, kernel_size=(3,), stride=(1,), padding=(1,))\n",
      "  (pool2): MaxPool1d(kernel_size=2, stride=2, padding=0, dilation=1, ceil_mode=False)\n",
      "  (en_3): Conv1d(32, 8, kernel_size=(3,), stride=(1,), padding=(1,))\n",
      "  (pool3): MaxPool1d(kernel_size=2, stride=2, padding=0, dilation=1, ceil_mode=False)\n",
      "  (en_4): Conv1d(8, 4, kernel_size=(3,), stride=(1,), padding=(1,))\n",
      "  (pool4): MaxPool1d(kernel_size=2, stride=2, padding=0, dilation=1, ceil_mode=False)\n",
      "  (de_1): Conv1d(4, 8, kernel_size=(3,), stride=(1,), padding=(1,))\n",
      "  (de_2): Conv1d(8, 32, kernel_size=(3,), stride=(1,), padding=(1,))\n",
      "  (de_3): Conv1d(32, 64, kernel_size=(3,), stride=(1,), padding=(1,))\n",
      "  (de_4): Conv1d(64, 1, kernel_size=(3,), stride=(1,), padding=(1,))\n",
      ")\n",
      "Train Epoch: 1\tLoss: 0.132275\n",
      "456\n",
      "0.869116943337984\n",
      "Percentage of windows that are null: 0.15873381030159422\n",
      "Percentage of windows that are null: 0.6348914243651086\n",
      "_CAEAD(\n",
      "  (en_1): Conv1d(1, 64, kernel_size=(3,), stride=(1,), padding=(1,))\n",
      "  (pool1): MaxPool1d(kernel_size=2, stride=2, padding=0, dilation=1, ceil_mode=False)\n",
      "  (en_2): Conv1d(64, 32, kernel_size=(3,), stride=(1,), padding=(1,))\n",
      "  (pool2): MaxPool1d(kernel_size=2, stride=2, padding=0, dilation=1, ceil_mode=False)\n",
      "  (en_3): Conv1d(32, 8, kernel_size=(3,), stride=(1,), padding=(1,))\n",
      "  (pool3): MaxPool1d(kernel_size=2, stride=2, padding=0, dilation=1, ceil_mode=False)\n",
      "  (en_4): Conv1d(8, 4, kernel_size=(3,), stride=(1,), padding=(1,))\n",
      "  (pool4): MaxPool1d(kernel_size=2, stride=2, padding=0, dilation=1, ceil_mode=False)\n",
      "  (de_1): Conv1d(4, 8, kernel_size=(3,), stride=(1,), padding=(1,))\n",
      "  (de_2): Conv1d(8, 32, kernel_size=(3,), stride=(1,), padding=(1,))\n",
      "  (de_3): Conv1d(32, 64, kernel_size=(3,), stride=(1,), padding=(1,))\n",
      "  (de_4): Conv1d(64, 1, kernel_size=(3,), stride=(1,), padding=(1,))\n",
      ")\n"
     ]
    },
    {
     "ename": "KeyboardInterrupt",
     "evalue": "",
     "output_type": "error",
     "traceback": [
      "\u001b[0;31m---------------------------------------------------------------------------\u001b[0m",
      "\u001b[0;31mKeyboardInterrupt\u001b[0m                         Traceback (most recent call last)",
      "\u001b[0;32m<ipython-input-6-e1c3f7b00262>\u001b[0m in \u001b[0;36m<module>\u001b[0;34m\u001b[0m\n\u001b[1;32m     13\u001b[0m     \u001b[0mx_val_fold\u001b[0m \u001b[0;34m=\u001b[0m \u001b[0mwindow_min_max\u001b[0m\u001b[0;34m(\u001b[0m\u001b[0mx_val_fold\u001b[0m\u001b[0;34m)\u001b[0m\u001b[0;34m\u001b[0m\u001b[0;34m\u001b[0m\u001b[0m\n\u001b[1;32m     14\u001b[0m \u001b[0;34m\u001b[0m\u001b[0m\n\u001b[0;32m---> 15\u001b[0;31m     \u001b[0maead\u001b[0m \u001b[0;34m=\u001b[0m \u001b[0mCAEAD\u001b[0m\u001b[0;34m(\u001b[0m\u001b[0;36m100\u001b[0m\u001b[0;34m,\u001b[0m\u001b[0;36m256\u001b[0m\u001b[0;34m,\u001b[0m \u001b[0;36m0.0001\u001b[0m\u001b[0;34m,\u001b[0m \u001b[0;36m1\u001b[0m\u001b[0;34m,\u001b[0m \u001b[0;34m'cpu'\u001b[0m\u001b[0;34m,\u001b[0m \u001b[0mAdam\u001b[0m\u001b[0;34m)\u001b[0m\u001b[0;34m.\u001b[0m\u001b[0mfit\u001b[0m\u001b[0;34m(\u001b[0m\u001b[0mx_train_normal\u001b[0m\u001b[0;34m,\u001b[0m  \u001b[0my_train_normal\u001b[0m\u001b[0;34m)\u001b[0m\u001b[0;34m\u001b[0m\u001b[0;34m\u001b[0m\u001b[0m\n\u001b[0m\u001b[1;32m     16\u001b[0m     \u001b[0my_pred_aead\u001b[0m \u001b[0;34m=\u001b[0m \u001b[0maead\u001b[0m\u001b[0;34m.\u001b[0m\u001b[0mpredict\u001b[0m\u001b[0;34m(\u001b[0m\u001b[0mx_val_fold\u001b[0m\u001b[0;34m)\u001b[0m\u001b[0;34m\u001b[0m\u001b[0;34m\u001b[0m\u001b[0m\n\u001b[1;32m     17\u001b[0m     \u001b[0mval_auc\u001b[0m \u001b[0;34m=\u001b[0m \u001b[0mroc_auc_score\u001b[0m\u001b[0;34m(\u001b[0m\u001b[0my_val_fold\u001b[0m\u001b[0;34m,\u001b[0m \u001b[0my_pred_aead\u001b[0m\u001b[0;34m)\u001b[0m\u001b[0;34m\u001b[0m\u001b[0;34m\u001b[0m\u001b[0m\n",
      "\u001b[0;32m~/Desktop/AD/models/CAEAD.py\u001b[0m in \u001b[0;36mfit\u001b[0;34m(self, X, y, X_val, y_val)\u001b[0m\n\u001b[1;32m     75\u001b[0m                                 \u001b[0mX_val\u001b[0m \u001b[0;34m=\u001b[0m \u001b[0mX_val\u001b[0m\u001b[0;34m.\u001b[0m\u001b[0mreshape\u001b[0m\u001b[0;34m(\u001b[0m\u001b[0;34m-\u001b[0m\u001b[0;36m1\u001b[0m\u001b[0;34m,\u001b[0m\u001b[0;36m1\u001b[0m\u001b[0;34m,\u001b[0m \u001b[0mX_val\u001b[0m\u001b[0;34m.\u001b[0m\u001b[0mshape\u001b[0m\u001b[0;34m[\u001b[0m\u001b[0;34m-\u001b[0m\u001b[0;36m1\u001b[0m\u001b[0;34m]\u001b[0m\u001b[0;34m)\u001b[0m\u001b[0;34m\u001b[0m\u001b[0;34m\u001b[0m\u001b[0m\n\u001b[1;32m     76\u001b[0m                                 \u001b[0mmses\u001b[0m \u001b[0;34m=\u001b[0m \u001b[0mself\u001b[0m\u001b[0;34m.\u001b[0m\u001b[0mpredict\u001b[0m\u001b[0;34m(\u001b[0m\u001b[0mX_val\u001b[0m\u001b[0;34m)\u001b[0m\u001b[0;34m\u001b[0m\u001b[0;34m\u001b[0m\u001b[0m\n\u001b[0;32m---> 77\u001b[0;31m                         \u001b[0mmses\u001b[0m \u001b[0;34m=\u001b[0m \u001b[0mself\u001b[0m\u001b[0;34m.\u001b[0m\u001b[0mpredict\u001b[0m\u001b[0;34m(\u001b[0m\u001b[0mX\u001b[0m\u001b[0;34m)\u001b[0m\u001b[0;34m\u001b[0m\u001b[0;34m\u001b[0m\u001b[0m\n\u001b[0m\u001b[1;32m     78\u001b[0m                         \u001b[0;32mif\u001b[0m \u001b[0mself\u001b[0m\u001b[0;34m.\u001b[0m\u001b[0mnormal_only\u001b[0m\u001b[0;34m:\u001b[0m\u001b[0;34m\u001b[0m\u001b[0;34m\u001b[0m\u001b[0m\n\u001b[1;32m     79\u001b[0m                                 \u001b[0mprint\u001b[0m\u001b[0;34m(\u001b[0m\u001b[0;34m'Train Epoch: {}\\tLoss: {:.6f}'\u001b[0m\u001b[0;34m.\u001b[0m\u001b[0mformat\u001b[0m\u001b[0;34m(\u001b[0m\u001b[0mepoch\u001b[0m\u001b[0;34m,\u001b[0m \u001b[0mloss\u001b[0m\u001b[0;34m)\u001b[0m\u001b[0;34m)\u001b[0m\u001b[0;34m\u001b[0m\u001b[0;34m\u001b[0m\u001b[0m\n",
      "\u001b[0;32m~/Desktop/AD/models/CAEAD.py\u001b[0m in \u001b[0;36mpredict\u001b[0;34m(self, X, checkpoint)\u001b[0m\n\u001b[1;32m    128\u001b[0m                                 \u001b[0;31m# Targets are the inputs to the network.\u001b[0m\u001b[0;34m\u001b[0m\u001b[0;34m\u001b[0m\u001b[0;34m\u001b[0m\u001b[0m\n\u001b[1;32m    129\u001b[0m                                 \u001b[0mtarget\u001b[0m \u001b[0;34m=\u001b[0m \u001b[0mdata\u001b[0m\u001b[0;34m.\u001b[0m\u001b[0mclone\u001b[0m\u001b[0;34m(\u001b[0m\u001b[0;34m)\u001b[0m\u001b[0;34m\u001b[0m\u001b[0;34m\u001b[0m\u001b[0m\n\u001b[0;32m--> 130\u001b[0;31m                                 \u001b[0moutput\u001b[0m \u001b[0;34m=\u001b[0m \u001b[0mself\u001b[0m\u001b[0;34m.\u001b[0m\u001b[0mmodel\u001b[0m\u001b[0;34m(\u001b[0m\u001b[0mdata\u001b[0m\u001b[0;34m)\u001b[0m\u001b[0;34m\u001b[0m\u001b[0;34m\u001b[0m\u001b[0m\n\u001b[0m\u001b[1;32m    131\u001b[0m                                 \u001b[0mpreds\u001b[0m\u001b[0;34m.\u001b[0m\u001b[0mappend\u001b[0m\u001b[0;34m(\u001b[0m\u001b[0mnp\u001b[0m\u001b[0;34m.\u001b[0m\u001b[0msqueeze\u001b[0m\u001b[0;34m(\u001b[0m\u001b[0moutput\u001b[0m\u001b[0;34m.\u001b[0m\u001b[0mcpu\u001b[0m\u001b[0;34m(\u001b[0m\u001b[0;34m)\u001b[0m\u001b[0;34m.\u001b[0m\u001b[0mnumpy\u001b[0m\u001b[0;34m(\u001b[0m\u001b[0;34m)\u001b[0m\u001b[0;34m)\u001b[0m\u001b[0;34m)\u001b[0m\u001b[0;34m\u001b[0m\u001b[0;34m\u001b[0m\u001b[0m\n\u001b[1;32m    132\u001b[0m                                 \u001b[0mtargets\u001b[0m\u001b[0;34m.\u001b[0m\u001b[0mappend\u001b[0m\u001b[0;34m(\u001b[0m\u001b[0mnp\u001b[0m\u001b[0;34m.\u001b[0m\u001b[0msqueeze\u001b[0m\u001b[0;34m(\u001b[0m\u001b[0mtarget\u001b[0m\u001b[0;34m.\u001b[0m\u001b[0mcpu\u001b[0m\u001b[0;34m(\u001b[0m\u001b[0;34m)\u001b[0m\u001b[0;34m.\u001b[0m\u001b[0mnumpy\u001b[0m\u001b[0;34m(\u001b[0m\u001b[0;34m)\u001b[0m\u001b[0;34m)\u001b[0m\u001b[0;34m)\u001b[0m\u001b[0;34m\u001b[0m\u001b[0;34m\u001b[0m\u001b[0m\n",
      "\u001b[0;32m~/anaconda3/envs/py36/lib/python3.8/site-packages/torch/nn/modules/module.py\u001b[0m in \u001b[0;36m_call_impl\u001b[0;34m(self, *input, **kwargs)\u001b[0m\n\u001b[1;32m    720\u001b[0m             \u001b[0mresult\u001b[0m \u001b[0;34m=\u001b[0m \u001b[0mself\u001b[0m\u001b[0;34m.\u001b[0m\u001b[0m_slow_forward\u001b[0m\u001b[0;34m(\u001b[0m\u001b[0;34m*\u001b[0m\u001b[0minput\u001b[0m\u001b[0;34m,\u001b[0m \u001b[0;34m**\u001b[0m\u001b[0mkwargs\u001b[0m\u001b[0;34m)\u001b[0m\u001b[0;34m\u001b[0m\u001b[0;34m\u001b[0m\u001b[0m\n\u001b[1;32m    721\u001b[0m         \u001b[0;32melse\u001b[0m\u001b[0;34m:\u001b[0m\u001b[0;34m\u001b[0m\u001b[0;34m\u001b[0m\u001b[0m\n\u001b[0;32m--> 722\u001b[0;31m             \u001b[0mresult\u001b[0m \u001b[0;34m=\u001b[0m \u001b[0mself\u001b[0m\u001b[0;34m.\u001b[0m\u001b[0mforward\u001b[0m\u001b[0;34m(\u001b[0m\u001b[0;34m*\u001b[0m\u001b[0minput\u001b[0m\u001b[0;34m,\u001b[0m \u001b[0;34m**\u001b[0m\u001b[0mkwargs\u001b[0m\u001b[0;34m)\u001b[0m\u001b[0;34m\u001b[0m\u001b[0;34m\u001b[0m\u001b[0m\n\u001b[0m\u001b[1;32m    723\u001b[0m         for hook in itertools.chain(\n\u001b[1;32m    724\u001b[0m                 \u001b[0m_global_forward_hooks\u001b[0m\u001b[0;34m.\u001b[0m\u001b[0mvalues\u001b[0m\u001b[0;34m(\u001b[0m\u001b[0;34m)\u001b[0m\u001b[0;34m,\u001b[0m\u001b[0;34m\u001b[0m\u001b[0;34m\u001b[0m\u001b[0m\n",
      "\u001b[0;32m~/Desktop/AD/models/CAEAD.py\u001b[0m in \u001b[0;36mforward\u001b[0;34m(self, X)\u001b[0m\n\u001b[1;32m     27\u001b[0m \u001b[0;34m\u001b[0m\u001b[0m\n\u001b[1;32m     28\u001b[0m         \u001b[0;32mdef\u001b[0m \u001b[0mforward\u001b[0m\u001b[0;34m(\u001b[0m\u001b[0mself\u001b[0m\u001b[0;34m,\u001b[0m \u001b[0mX\u001b[0m\u001b[0;34m)\u001b[0m\u001b[0;34m:\u001b[0m\u001b[0;34m\u001b[0m\u001b[0;34m\u001b[0m\u001b[0m\n\u001b[0;32m---> 29\u001b[0;31m                 \u001b[0mencoder\u001b[0m  \u001b[0;34m=\u001b[0m \u001b[0mF\u001b[0m\u001b[0;34m.\u001b[0m\u001b[0mrelu\u001b[0m\u001b[0;34m(\u001b[0m\u001b[0mself\u001b[0m\u001b[0;34m.\u001b[0m\u001b[0men_1\u001b[0m\u001b[0;34m(\u001b[0m\u001b[0mX\u001b[0m\u001b[0;34m)\u001b[0m\u001b[0;34m)\u001b[0m\u001b[0;34m\u001b[0m\u001b[0;34m\u001b[0m\u001b[0m\n\u001b[0m\u001b[1;32m     30\u001b[0m                 \u001b[0mencoder\u001b[0m \u001b[0;34m=\u001b[0m \u001b[0mself\u001b[0m\u001b[0;34m.\u001b[0m\u001b[0mpool1\u001b[0m\u001b[0;34m(\u001b[0m\u001b[0mencoder\u001b[0m\u001b[0;34m)\u001b[0m\u001b[0;34m\u001b[0m\u001b[0;34m\u001b[0m\u001b[0m\n\u001b[1;32m     31\u001b[0m                 \u001b[0mencoder\u001b[0m \u001b[0;34m=\u001b[0m \u001b[0mF\u001b[0m\u001b[0;34m.\u001b[0m\u001b[0mrelu\u001b[0m\u001b[0;34m(\u001b[0m\u001b[0mself\u001b[0m\u001b[0;34m.\u001b[0m\u001b[0men_2\u001b[0m\u001b[0;34m(\u001b[0m\u001b[0mencoder\u001b[0m\u001b[0;34m)\u001b[0m\u001b[0;34m)\u001b[0m\u001b[0;34m\u001b[0m\u001b[0;34m\u001b[0m\u001b[0m\n",
      "\u001b[0;32m~/anaconda3/envs/py36/lib/python3.8/site-packages/torch/nn/modules/module.py\u001b[0m in \u001b[0;36m_call_impl\u001b[0;34m(self, *input, **kwargs)\u001b[0m\n\u001b[1;32m    720\u001b[0m             \u001b[0mresult\u001b[0m \u001b[0;34m=\u001b[0m \u001b[0mself\u001b[0m\u001b[0;34m.\u001b[0m\u001b[0m_slow_forward\u001b[0m\u001b[0;34m(\u001b[0m\u001b[0;34m*\u001b[0m\u001b[0minput\u001b[0m\u001b[0;34m,\u001b[0m \u001b[0;34m**\u001b[0m\u001b[0mkwargs\u001b[0m\u001b[0;34m)\u001b[0m\u001b[0;34m\u001b[0m\u001b[0;34m\u001b[0m\u001b[0m\n\u001b[1;32m    721\u001b[0m         \u001b[0;32melse\u001b[0m\u001b[0;34m:\u001b[0m\u001b[0;34m\u001b[0m\u001b[0;34m\u001b[0m\u001b[0m\n\u001b[0;32m--> 722\u001b[0;31m             \u001b[0mresult\u001b[0m \u001b[0;34m=\u001b[0m \u001b[0mself\u001b[0m\u001b[0;34m.\u001b[0m\u001b[0mforward\u001b[0m\u001b[0;34m(\u001b[0m\u001b[0;34m*\u001b[0m\u001b[0minput\u001b[0m\u001b[0;34m,\u001b[0m \u001b[0;34m**\u001b[0m\u001b[0mkwargs\u001b[0m\u001b[0;34m)\u001b[0m\u001b[0;34m\u001b[0m\u001b[0;34m\u001b[0m\u001b[0m\n\u001b[0m\u001b[1;32m    723\u001b[0m         for hook in itertools.chain(\n\u001b[1;32m    724\u001b[0m                 \u001b[0m_global_forward_hooks\u001b[0m\u001b[0;34m.\u001b[0m\u001b[0mvalues\u001b[0m\u001b[0;34m(\u001b[0m\u001b[0;34m)\u001b[0m\u001b[0;34m,\u001b[0m\u001b[0;34m\u001b[0m\u001b[0;34m\u001b[0m\u001b[0m\n",
      "\u001b[0;32m~/anaconda3/envs/py36/lib/python3.8/site-packages/torch/nn/modules/conv.py\u001b[0m in \u001b[0;36mforward\u001b[0;34m(self, input)\u001b[0m\n\u001b[1;32m    254\u001b[0m                             \u001b[0mself\u001b[0m\u001b[0;34m.\u001b[0m\u001b[0mweight\u001b[0m\u001b[0;34m,\u001b[0m \u001b[0mself\u001b[0m\u001b[0;34m.\u001b[0m\u001b[0mbias\u001b[0m\u001b[0;34m,\u001b[0m \u001b[0mself\u001b[0m\u001b[0;34m.\u001b[0m\u001b[0mstride\u001b[0m\u001b[0;34m,\u001b[0m\u001b[0;34m\u001b[0m\u001b[0;34m\u001b[0m\u001b[0m\n\u001b[1;32m    255\u001b[0m                             _single(0), self.dilation, self.groups)\n\u001b[0;32m--> 256\u001b[0;31m         return F.conv1d(input, self.weight, self.bias, self.stride,\n\u001b[0m\u001b[1;32m    257\u001b[0m                         self.padding, self.dilation, self.groups)\n\u001b[1;32m    258\u001b[0m \u001b[0;34m\u001b[0m\u001b[0m\n",
      "\u001b[0;31mKeyboardInterrupt\u001b[0m: "
     ]
    }
   ],
   "source": [
    "aead_aucs = []\n",
    "for train_index, val_index in skf.split(x_train, y_train):\n",
    "    x_train_fold = x_train[train_index]\n",
    "    y_train_fold = y_train[train_index]\n",
    "    x_train_normal = x_train_fold[y_train_fold == 0]\n",
    "    y_train_normal = y_train_fold[y_train_fold == 0]\n",
    "\n",
    "    \n",
    "    x_val_fold = x_train[val_index]\n",
    "    y_val_fold = y_train[val_index]\n",
    "    \n",
    "    x_train_fold = window_min_max(x_train_fold)\n",
    "    x_val_fold = window_min_max(x_val_fold)\n",
    "\n",
    "    aead = CAEAD(100,256, 0.0001, 1, 'cpu', Adam).fit(x_train_normal,  y_train_normal)\n",
    "    y_pred_aead = aead.predict(x_val_fold)\n",
    "    val_auc = roc_auc_score(y_val_fold, y_pred_aead)\n",
    "    print(sum(y_val_fold ))\n",
    "    aead_aucs.append(val_auc)\n",
    "    print(val_auc)\n",
    "print(np.mean(aead_aucs))"
   ]
  },
  {
   "cell_type": "code",
   "execution_count": 12,
   "metadata": {},
   "outputs": [
    {
     "name": "stdout",
     "output_type": "stream",
     "text": [
      "Train Epoch: 1\tLoss: 0.166059\tTrain auc: 0.583247\n",
      "Train Epoch: 2\tLoss: 0.056905\tTrain auc: 0.603742\n",
      "Train Epoch: 3\tLoss: 0.044762\tTrain auc: 0.606575\n",
      "Train Epoch: 4\tLoss: 0.044043\tTrain auc: 0.607836\n",
      "Train Epoch: 5\tLoss: 0.042965\tTrain auc: 0.611375\n",
      "Train Epoch: 6\tLoss: 0.041027\tTrain auc: 0.620518\n",
      "Train Epoch: 7\tLoss: 0.038815\tTrain auc: 0.638289\n",
      "Train Epoch: 8\tLoss: 0.036240\tTrain auc: 0.667579\n",
      "Train Epoch: 9\tLoss: 0.033680\tTrain auc: 0.695896\n",
      "Train Epoch: 10\tLoss: 0.031641\tTrain auc: 0.716035\n",
      "Train Epoch: 11\tLoss: 0.030147\tTrain auc: 0.733479\n",
      "Train Epoch: 12\tLoss: 0.028850\tTrain auc: 0.752003\n",
      "Train Epoch: 13\tLoss: 0.027658\tTrain auc: 0.766491\n",
      "Train Epoch: 14\tLoss: 0.026623\tTrain auc: 0.779211\n",
      "Train Epoch: 15\tLoss: 0.025742\tTrain auc: 0.791174\n",
      "Train Epoch: 16\tLoss: 0.025023\tTrain auc: 0.800801\n",
      "Train Epoch: 17\tLoss: 0.024403\tTrain auc: 0.807573\n",
      "Train Epoch: 18\tLoss: 0.023889\tTrain auc: 0.811561\n",
      "Train Epoch: 19\tLoss: 0.023459\tTrain auc: 0.816654\n",
      "Train Epoch: 20\tLoss: 0.023094\tTrain auc: 0.819701\n",
      "3.9797294222527846\n",
      "[2.98642651 3.788483   4.07781699 ... 1.73456768 1.6411461  1.42365297]\n",
      "Validation AUC 0.808628792014612\n",
      "Validation F1 0.18912907268170426\n"
     ]
    },
    {
     "data": {
      "image/png": "[encoded data removed]",
      "text/plain": [
       "<Figure size 432x288 with 1 Axes>"
      ]
     },
     "metadata": {
      "needs_background": "light"
     },
     "output_type": "display_data"
    },
    {
     "name": "stdout",
     "output_type": "stream",
     "text": [
      "Train Epoch: 1\tLoss: 0.173394\tTrain auc: 0.637966\n",
      "Train Epoch: 2\tLoss: 0.062679\tTrain auc: 0.583996\n",
      "Train Epoch: 3\tLoss: 0.046157\tTrain auc: 0.582236\n",
      "Train Epoch: 4\tLoss: 0.045243\tTrain auc: 0.579523\n",
      "Train Epoch: 5\tLoss: 0.044654\tTrain auc: 0.578137\n",
      "Train Epoch: 6\tLoss: 0.043736\tTrain auc: 0.574580\n",
      "Train Epoch: 7\tLoss: 0.041831\tTrain auc: 0.580155\n",
      "Train Epoch: 8\tLoss: 0.039110\tTrain auc: 0.587070\n",
      "Train Epoch: 9\tLoss: 0.037610\tTrain auc: 0.593379\n",
      "Train Epoch: 10\tLoss: 0.036504\tTrain auc: 0.608386\n",
      "Train Epoch: 11\tLoss: 0.034980\tTrain auc: 0.636122\n",
      "Train Epoch: 12\tLoss: 0.033109\tTrain auc: 0.670118\n",
      "Train Epoch: 13\tLoss: 0.031265\tTrain auc: 0.707572\n",
      "Train Epoch: 14\tLoss: 0.029610\tTrain auc: 0.732886\n",
      "Train Epoch: 15\tLoss: 0.028491\tTrain auc: 0.747211\n",
      "Train Epoch: 16\tLoss: 0.027757\tTrain auc: 0.758498\n",
      "Train Epoch: 17\tLoss: 0.027145\tTrain auc: 0.766460\n",
      "Train Epoch: 18\tLoss: 0.026585\tTrain auc: 0.775209\n",
      "Train Epoch: 19\tLoss: 0.025997\tTrain auc: 0.784018\n",
      "Train Epoch: 20\tLoss: 0.025388\tTrain auc: 0.790086\n",
      "3.851237913808835\n",
      "[ 3.79101066  3.78308488  3.8159544  ... -2.0803041  -3.05140745\n",
      " -1.00563963]\n",
      "Validation AUC 0.8579177006646101\n",
      "Validation F1 0.24410447424249834\n"
     ]
    },
    {
     "data": {
      "image/png": "[encoded data removed]",
      "text/plain": [
       "<Figure size 432x288 with 1 Axes>"
      ]
     },
     "metadata": {
      "needs_background": "light"
     },
     "output_type": "display_data"
    },
    {
     "name": "stdout",
     "output_type": "stream",
     "text": [
      "Train Epoch: 1\tLoss: 0.275545\tTrain auc: 0.507942\n",
      "Train Epoch: 2\tLoss: 0.098412\tTrain auc: 0.604953\n",
      "Train Epoch: 3\tLoss: 0.043588\tTrain auc: 0.602633\n",
      "Train Epoch: 4\tLoss: 0.042148\tTrain auc: 0.602533\n",
      "Train Epoch: 5\tLoss: 0.041379\tTrain auc: 0.593299\n",
      "Train Epoch: 6\tLoss: 0.038465\tTrain auc: 0.598714\n",
      "Train Epoch: 7\tLoss: 0.035616\tTrain auc: 0.598069\n",
      "Train Epoch: 8\tLoss: 0.034659\tTrain auc: 0.601377\n",
      "Train Epoch: 9\tLoss: 0.033817\tTrain auc: 0.613256\n",
      "Train Epoch: 10\tLoss: 0.032736\tTrain auc: 0.626115\n",
      "Train Epoch: 11\tLoss: 0.031892\tTrain auc: 0.638451\n",
      "Train Epoch: 12\tLoss: 0.031033\tTrain auc: 0.654080\n",
      "Train Epoch: 13\tLoss: 0.030206\tTrain auc: 0.666183\n",
      "Train Epoch: 14\tLoss: 0.029641\tTrain auc: 0.672497\n",
      "Train Epoch: 15\tLoss: 0.029233\tTrain auc: 0.678426\n",
      "Train Epoch: 16\tLoss: 0.028839\tTrain auc: 0.692708\n",
      "Train Epoch: 17\tLoss: 0.028450\tTrain auc: 0.702682\n",
      "Train Epoch: 18\tLoss: 0.028007\tTrain auc: 0.711098\n",
      "Train Epoch: 19\tLoss: 0.027443\tTrain auc: 0.717331\n",
      "Train Epoch: 20\tLoss: 0.025903\tTrain auc: 0.716380\n",
      "3.6953820205816785\n",
      "[3.0216757  3.08260435 3.09442628 ... 1.5717617  1.72806454 1.99998065]\n",
      "Validation AUC 0.9188107804329766\n",
      "Validation F1 0.22535589868374006\n"
     ]
    },
    {
     "data": {
      "image/png": "[encoded data removed]",
      "text/plain": [
       "<Figure size 432x288 with 1 Axes>"
      ]
     },
     "metadata": {
      "needs_background": "light"
     },
     "output_type": "display_data"
    },
    {
     "name": "stdout",
     "output_type": "stream",
     "text": [
      "Train Epoch: 1\tLoss: 0.251332\tTrain auc: 0.531310\n",
      "Train Epoch: 2\tLoss: 0.085072\tTrain auc: 0.739318\n",
      "Train Epoch: 3\tLoss: 0.040631\tTrain auc: 0.733664\n",
      "Train Epoch: 4\tLoss: 0.038327\tTrain auc: 0.733770\n",
      "Train Epoch: 5\tLoss: 0.037519\tTrain auc: 0.732611\n",
      "Train Epoch: 6\tLoss: 0.036728\tTrain auc: 0.728965\n",
      "Train Epoch: 7\tLoss: 0.035302\tTrain auc: 0.722649\n",
      "Train Epoch: 8\tLoss: 0.032694\tTrain auc: 0.712639\n",
      "Train Epoch: 9\tLoss: 0.030923\tTrain auc: 0.707572\n",
      "Train Epoch: 10\tLoss: 0.030316\tTrain auc: 0.714959\n",
      "Train Epoch: 11\tLoss: 0.029874\tTrain auc: 0.725311\n",
      "Train Epoch: 12\tLoss: 0.029260\tTrain auc: 0.732693\n",
      "Train Epoch: 13\tLoss: 0.028834\tTrain auc: 0.735032\n",
      "Train Epoch: 14\tLoss: 0.028543\tTrain auc: 0.737233\n",
      "Train Epoch: 15\tLoss: 0.028220\tTrain auc: 0.738820\n",
      "Train Epoch: 16\tLoss: 0.027691\tTrain auc: 0.739302\n",
      "Train Epoch: 17\tLoss: 0.026788\tTrain auc: 0.739763\n",
      "Train Epoch: 18\tLoss: 0.023838\tTrain auc: 0.739737\n",
      "Train Epoch: 19\tLoss: 0.000650\tTrain auc: 0.746608\n",
      "Train Epoch: 20\tLoss: -0.300452\tTrain auc: 0.733976\n",
      "2.5496071945594063\n",
      "[2.28709388 2.60401585 2.47659161 ... 1.26348272 1.20775343 1.36469584]\n",
      "Validation AUC 0.1509212590596653\n",
      "Validation F1 0.2749890693137391\n"
     ]
    },
    {
     "data": {
      "image/png": "[encoded data removed]",
      "text/plain": [
       "<Figure size 432x288 with 1 Axes>"
      ]
     },
     "metadata": {
      "needs_background": "light"
     },
     "output_type": "display_data"
    },
    {
     "name": "stdout",
     "output_type": "stream",
     "text": [
      "Train Epoch: 1\tLoss: 0.196943\tTrain auc: 0.627727\n",
      "Train Epoch: 2\tLoss: 0.052282\tTrain auc: 0.636413\n",
      "Train Epoch: 3\tLoss: 0.038359\tTrain auc: 0.638997\n",
      "Train Epoch: 4\tLoss: 0.037102\tTrain auc: 0.641204\n",
      "Train Epoch: 5\tLoss: 0.034156\tTrain auc: 0.643224\n",
      "Train Epoch: 6\tLoss: 0.030970\tTrain auc: 0.642799\n",
      "Train Epoch: 7\tLoss: 0.028945\tTrain auc: 0.655469\n",
      "Train Epoch: 8\tLoss: 0.026992\tTrain auc: 0.674457\n",
      "Train Epoch: 9\tLoss: 0.024928\tTrain auc: 0.704746\n",
      "Train Epoch: 10\tLoss: 0.023124\tTrain auc: 0.730967\n",
      "Train Epoch: 11\tLoss: 0.021839\tTrain auc: 0.760737\n",
      "Train Epoch: 12\tLoss: 0.020484\tTrain auc: 0.797737\n",
      "Train Epoch: 13\tLoss: 0.019011\tTrain auc: 0.824779\n",
      "Train Epoch: 14\tLoss: 0.017852\tTrain auc: 0.844732\n",
      "Train Epoch: 15\tLoss: 0.017018\tTrain auc: 0.856536\n",
      "Train Epoch: 16\tLoss: 0.016350\tTrain auc: 0.872149\n",
      "Train Epoch: 17\tLoss: 0.015768\tTrain auc: 0.871736\n",
      "Train Epoch: 18\tLoss: 0.015244\tTrain auc: 0.881818\n",
      "Train Epoch: 19\tLoss: 0.014748\tTrain auc: 0.886587\n",
      "Train Epoch: 20\tLoss: 0.014296\tTrain auc: 0.893770\n",
      "4.131781486020328\n",
      "[-1.51230821 -0.31071491  0.30203286 ... -0.95172471 -0.99647161\n",
      " -0.94572486]\n",
      "Validation AUC 0.469005244115957\n",
      "Validation F1 0.10006221836090892\n"
     ]
    },
    {
     "data": {
      "image/png": "[encoded data removed]",
      "text/plain": [
       "<Figure size 432x288 with 1 Axes>"
      ]
     },
     "metadata": {
      "needs_background": "light"
     },
     "output_type": "display_data"
    }
   ],
   "source": [
    "aead_aucs = []\n",
    "for train_index, val_index in skf.split(x_train, y_train):\n",
    "    x_train_fold = x_train[train_index]\n",
    "    y_train_fold = y_train[train_index]\n",
    "    \n",
    "    x_val_fold = x_train[val_index]\n",
    "    y_val_fold = y_train[val_index]\n",
    "    \n",
    "    aead = AEAD(300,512, 0.0001, 20, 'cpu', Adam, normal_only=False).fit(x_train_fold,  y_train_fold)\n",
    "    y_pred_train_aead = aead.predict(x_train_fold)\n",
    "    y_pred_train_aead  = y_pred_train_aead\n",
    "    y_pred_train_aead_normal = y_pred_train_aead[y_train_fold==0]\n",
    "    gmm = GaussianMixture(n_components=4)\n",
    "    gmm.fit(y_pred_train_aead_normal.reshape(-1, 1))\n",
    "    scores_train = gmm.score_samples(y_pred_train_aead_normal.reshape(len(y_pred_train_aead_normal), 1))\n",
    "    threshold = np.percentile(scores_train, 80)\n",
    "#     threshold = np.mean(y_pred_train_aead_normal)+np.std(y_pred_train_aead_normal)\n",
    "    y_pred_aead_raw = aead.predict(x_val_fold)\n",
    "    scores_val = gmm.score_samples(y_pred_aead_raw.reshape(-1, 1))\n",
    "    val_auc = roc_auc_score(y_val_fold, y_pred_aead_raw)\n",
    "    aead_aucs.append(val_auc)\n",
    "\n",
    "#     fpr, tpr, thresholds = roc_curve(y_train_fold,y_pred_train_aead)\n",
    "#     threshold_i = np.argmax(tpr - fpr)\n",
    "    print(threshold)\n",
    "    y_pred_aead = np.where(scores_val < threshold, 1, 0)\n",
    "    print( scores_val)\n",
    "    f1_score_aead = f1_score(y_val_fold, y_pred_aead, average='macro')\n",
    "    print(\"Validation AUC\", val_auc)\n",
    "    print(\"Validation F1\",f1_score_aead)\n",
    "    plt.hist(y_pred_train_aead_normal, bins=100)\n",
    "    plt.hist(y_pred_aead_raw[y_val_fold==0],  bins=100)\n",
    "    plt.hist(y_pred_aead_raw[y_val_fold==1],  bins=100)\n",
    "\n",
    "    plt.show()\n",
    "    \n"
   ]
  },
  {
   "cell_type": "code",
   "execution_count": 7,
   "metadata": {},
   "outputs": [
    {
     "name": "stdout",
     "output_type": "stream",
     "text": [
      "_CAEAD(\n",
      "  (en_1): Conv1d(1, 64, kernel_size=(3,), stride=(1,), padding=(1,))\n",
      "  (pool1): MaxPool1d(kernel_size=2, stride=2, padding=0, dilation=1, ceil_mode=False)\n",
      "  (en_2): Conv1d(64, 32, kernel_size=(3,), stride=(1,), padding=(1,))\n",
      "  (pool2): MaxPool1d(kernel_size=2, stride=2, padding=0, dilation=1, ceil_mode=False)\n",
      "  (en_3): Conv1d(32, 8, kernel_size=(3,), stride=(1,), padding=(1,))\n",
      "  (pool3): MaxPool1d(kernel_size=2, stride=2, padding=0, dilation=1, ceil_mode=False)\n",
      "  (en_4): Conv1d(8, 4, kernel_size=(3,), stride=(1,), padding=(1,))\n",
      "  (pool4): MaxPool1d(kernel_size=2, stride=2, padding=0, dilation=1, ceil_mode=False)\n",
      "  (de_1): Conv1d(4, 8, kernel_size=(3,), stride=(1,), padding=(1,))\n",
      "  (de_2): Conv1d(8, 32, kernel_size=(3,), stride=(1,), padding=(1,))\n",
      "  (de_3): Conv1d(32, 64, kernel_size=(3,), stride=(1,), padding=(1,))\n",
      "  (de_4): Conv1d(64, 1, kernel_size=(3,), stride=(1,), padding=(1,))\n",
      ")\n",
      "Train Epoch: 1\tLoss: 0.167006\tTrain auc: 0.591070\n",
      "2.2801779950390673\n",
      "[ 1.63516909  1.82810816  1.98655612 ... -0.79881248 -0.83316012\n",
      " -0.86863098]\n",
      "Validation AUC 0.8107732264054295\n",
      "Validation F1 0.48906962531145687\n"
     ]
    },
    {
     "data": {
      "image/png": "[encoded data removed]",
      "text/plain": [
       "<Figure size 432x288 with 1 Axes>"
      ]
     },
     "metadata": {
      "needs_background": "light"
     },
     "output_type": "display_data"
    },
    {
     "name": "stdout",
     "output_type": "stream",
     "text": [
      "_CAEAD(\n",
      "  (en_1): Conv1d(1, 64, kernel_size=(3,), stride=(1,), padding=(1,))\n",
      "  (pool1): MaxPool1d(kernel_size=2, stride=2, padding=0, dilation=1, ceil_mode=False)\n",
      "  (en_2): Conv1d(64, 32, kernel_size=(3,), stride=(1,), padding=(1,))\n",
      "  (pool2): MaxPool1d(kernel_size=2, stride=2, padding=0, dilation=1, ceil_mode=False)\n",
      "  (en_3): Conv1d(32, 8, kernel_size=(3,), stride=(1,), padding=(1,))\n",
      "  (pool3): MaxPool1d(kernel_size=2, stride=2, padding=0, dilation=1, ceil_mode=False)\n",
      "  (en_4): Conv1d(8, 4, kernel_size=(3,), stride=(1,), padding=(1,))\n",
      "  (pool4): MaxPool1d(kernel_size=2, stride=2, padding=0, dilation=1, ceil_mode=False)\n",
      "  (de_1): Conv1d(4, 8, kernel_size=(3,), stride=(1,), padding=(1,))\n",
      "  (de_2): Conv1d(8, 32, kernel_size=(3,), stride=(1,), padding=(1,))\n",
      "  (de_3): Conv1d(32, 64, kernel_size=(3,), stride=(1,), padding=(1,))\n",
      "  (de_4): Conv1d(64, 1, kernel_size=(3,), stride=(1,), padding=(1,))\n",
      ")\n",
      "Train Epoch: 1\tLoss: 0.140111\tTrain auc: 0.637104\n",
      "2.666283288021845\n",
      "[-0.74634175 -0.74648869 -0.7467995  ... -2.29484884 -2.293474\n",
      " -2.29598007]\n",
      "Validation AUC 0.29791457318645675\n",
      "Validation F1 0.4950544730163031\n"
     ]
    },
    {
     "data": {
      "image/png": "[encoded data removed]",
      "text/plain": [
       "<Figure size 432x288 with 1 Axes>"
      ]
     },
     "metadata": {
      "needs_background": "light"
     },
     "output_type": "display_data"
    },
    {
     "name": "stdout",
     "output_type": "stream",
     "text": [
      "_CAEAD(\n",
      "  (en_1): Conv1d(1, 64, kernel_size=(3,), stride=(1,), padding=(1,))\n",
      "  (pool1): MaxPool1d(kernel_size=2, stride=2, padding=0, dilation=1, ceil_mode=False)\n",
      "  (en_2): Conv1d(64, 32, kernel_size=(3,), stride=(1,), padding=(1,))\n",
      "  (pool2): MaxPool1d(kernel_size=2, stride=2, padding=0, dilation=1, ceil_mode=False)\n",
      "  (en_3): Conv1d(32, 8, kernel_size=(3,), stride=(1,), padding=(1,))\n",
      "  (pool3): MaxPool1d(kernel_size=2, stride=2, padding=0, dilation=1, ceil_mode=False)\n",
      "  (en_4): Conv1d(8, 4, kernel_size=(3,), stride=(1,), padding=(1,))\n",
      "  (pool4): MaxPool1d(kernel_size=2, stride=2, padding=0, dilation=1, ceil_mode=False)\n",
      "  (de_1): Conv1d(4, 8, kernel_size=(3,), stride=(1,), padding=(1,))\n",
      "  (de_2): Conv1d(8, 32, kernel_size=(3,), stride=(1,), padding=(1,))\n",
      "  (de_3): Conv1d(32, 64, kernel_size=(3,), stride=(1,), padding=(1,))\n",
      "  (de_4): Conv1d(64, 1, kernel_size=(3,), stride=(1,), padding=(1,))\n",
      ")\n",
      "Train Epoch: 1\tLoss: 0.212568\tTrain auc: 0.512837\n",
      "1.9261926891245609\n",
      "[1.71455152 1.71529631 1.71650241 ... 0.80426272 0.77958831 0.75501904]\n",
      "Validation AUC 0.9851555035412948\n",
      "Validation F1 0.317913632939995\n"
     ]
    },
    {
     "data": {
      "image/png": "[encoded data removed]",
      "text/plain": [
       "<Figure size 432x288 with 1 Axes>"
      ]
     },
     "metadata": {
      "needs_background": "light"
     },
     "output_type": "display_data"
    },
    {
     "name": "stdout",
     "output_type": "stream",
     "text": [
      "_CAEAD(\n",
      "  (en_1): Conv1d(1, 64, kernel_size=(3,), stride=(1,), padding=(1,))\n",
      "  (pool1): MaxPool1d(kernel_size=2, stride=2, padding=0, dilation=1, ceil_mode=False)\n",
      "  (en_2): Conv1d(64, 32, kernel_size=(3,), stride=(1,), padding=(1,))\n",
      "  (pool2): MaxPool1d(kernel_size=2, stride=2, padding=0, dilation=1, ceil_mode=False)\n",
      "  (en_3): Conv1d(32, 8, kernel_size=(3,), stride=(1,), padding=(1,))\n",
      "  (pool3): MaxPool1d(kernel_size=2, stride=2, padding=0, dilation=1, ceil_mode=False)\n",
      "  (en_4): Conv1d(8, 4, kernel_size=(3,), stride=(1,), padding=(1,))\n",
      "  (pool4): MaxPool1d(kernel_size=2, stride=2, padding=0, dilation=1, ceil_mode=False)\n",
      "  (de_1): Conv1d(4, 8, kernel_size=(3,), stride=(1,), padding=(1,))\n",
      "  (de_2): Conv1d(8, 32, kernel_size=(3,), stride=(1,), padding=(1,))\n",
      "  (de_3): Conv1d(32, 64, kernel_size=(3,), stride=(1,), padding=(1,))\n",
      "  (de_4): Conv1d(64, 1, kernel_size=(3,), stride=(1,), padding=(1,))\n",
      ")\n",
      "Train Epoch: 1\tLoss: 0.232470\tTrain auc: 0.533025\n",
      "1.890773000717345\n",
      "[0.72180688 0.68877012 1.06444568 ... 1.45545722 1.47717149 1.50625118]\n",
      "Validation AUC 0.8721512924083332\n",
      "Validation F1 0.3665403672398718\n"
     ]
    },
    {
     "data": {
      "image/png": "[encoded data removed]",
      "text/plain": [
       "<Figure size 432x288 with 1 Axes>"
      ]
     },
     "metadata": {
      "needs_background": "light"
     },
     "output_type": "display_data"
    },
    {
     "name": "stdout",
     "output_type": "stream",
     "text": [
      "_CAEAD(\n",
      "  (en_1): Conv1d(1, 64, kernel_size=(3,), stride=(1,), padding=(1,))\n",
      "  (pool1): MaxPool1d(kernel_size=2, stride=2, padding=0, dilation=1, ceil_mode=False)\n",
      "  (en_2): Conv1d(64, 32, kernel_size=(3,), stride=(1,), padding=(1,))\n",
      "  (pool2): MaxPool1d(kernel_size=2, stride=2, padding=0, dilation=1, ceil_mode=False)\n",
      "  (en_3): Conv1d(32, 8, kernel_size=(3,), stride=(1,), padding=(1,))\n",
      "  (pool3): MaxPool1d(kernel_size=2, stride=2, padding=0, dilation=1, ceil_mode=False)\n",
      "  (en_4): Conv1d(8, 4, kernel_size=(3,), stride=(1,), padding=(1,))\n",
      "  (pool4): MaxPool1d(kernel_size=2, stride=2, padding=0, dilation=1, ceil_mode=False)\n",
      "  (de_1): Conv1d(4, 8, kernel_size=(3,), stride=(1,), padding=(1,))\n",
      "  (de_2): Conv1d(8, 32, kernel_size=(3,), stride=(1,), padding=(1,))\n",
      "  (de_3): Conv1d(32, 64, kernel_size=(3,), stride=(1,), padding=(1,))\n",
      "  (de_4): Conv1d(64, 1, kernel_size=(3,), stride=(1,), padding=(1,))\n",
      ")\n",
      "Train Epoch: 1\tLoss: 0.241883\tTrain auc: 0.616026\n",
      "2.0419825355599883\n",
      "[-1.354902   -1.37037019 -1.37794535 ...  0.5626508   0.56074011\n",
      "  0.56092278]\n",
      "Validation AUC 0.35346849738889535\n",
      "Validation F1 0.6406133300757761\n"
     ]
    },
    {
     "data": {
      "image/png": "[encoded data removed]",
      "text/plain": [
       "<Figure size 432x288 with 1 Axes>"
      ]
     },
     "metadata": {
      "needs_background": "light"
     },
     "output_type": "display_data"
    }
   ],
   "source": [
    "aead_aucs = []\n",
    "for train_index, val_index in skf.split(x_train, y_train):\n",
    "    x_train_fold = x_train[train_index]\n",
    "    y_train_fold = y_train[train_index]\n",
    "    \n",
    "    x_val_fold = x_train[val_index]\n",
    "    y_val_fold = y_train[val_index]\n",
    "    \n",
    "    aead = CAEAD(300,512, 0.0001, 20, 'cpu', Adam, normal_only=False).fit(x_train_fold,  y_train_fold)\n",
    "    y_pred_train_aead = aead.predict(x_train_fold)\n",
    "    y_pred_train_aead  = y_pred_train_aead\n",
    "    y_pred_train_aead_normal = y_pred_train_aead[y_train_fold==0]\n",
    "    gmm = GaussianMixture(n_components=4)\n",
    "    gmm.fit(y_pred_train_aead_normal.reshape(-1, 1))\n",
    "    scores_train = gmm.score_samples(y_pred_train_aead_normal.reshape(len(y_pred_train_aead_normal), 1))\n",
    "    threshold = np.percentile(scores_train, 80)\n",
    "#     threshold = np.mean(y_pred_train_aead_normal)+np.std(y_pred_train_aead_normal)\n",
    "    y_pred_aead_raw = aead.predict(x_val_fold)\n",
    "    scores_val = gmm.score_samples(y_pred_aead_raw.reshape(-1, 1))\n",
    "    val_auc = roc_auc_score(y_val_fold, y_pred_aead_raw)\n",
    "    aead_aucs.append(val_auc)\n",
    "\n",
    "#     fpr, tpr, thresholds = roc_curve(y_train_fold,y_pred_train_aead)\n",
    "#     threshold_i = np.argmax(tpr - fpr)\n",
    "    print(threshold)\n",
    "    y_pred_aead = np.where(scores_val > threshold, 1, 0)\n",
    "    print( scores_val)\n",
    "    f1_score_aead = f1_score(y_val_fold, y_pred_aead, average='macro')\n",
    "    print(\"Validation AUC\", val_auc)\n",
    "    print(\"Validation F1\",f1_score_aead)\n",
    "    plt.hist(y_pred_train_aead_normal, bins=100)\n",
    "    plt.hist(y_pred_aead_raw[y_val_fold==0],  bins=100)\n",
    "    plt.hist(y_pred_aead_raw[y_val_fold==1],  bins=100)\n",
    "\n",
    "    plt.show()"
   ]
  },
  {
   "cell_type": "code",
   "execution_count": 8,
   "metadata": {},
   "outputs": [
    {
     "ename": "SyntaxError",
     "evalue": "invalid syntax (<ipython-input-8-cceaa3c7dcdb>, line 2)",
     "output_type": "error",
     "traceback": [
      "\u001b[0;36m  File \u001b[0;32m\"<ipython-input-8-cceaa3c7dcdb>\"\u001b[0;36m, line \u001b[0;32m2\u001b[0m\n\u001b[0;31m    1Validation AUC 0.6191607524381448\u001b[0m\n\u001b[0m     ^\u001b[0m\n\u001b[0;31mSyntaxError\u001b[0m\u001b[0;31m:\u001b[0m invalid syntax\n"
     ]
    }
   ],
   "source": [
    "mean + std\n",
    "1Validation AUC 0.6191607524381448\n",
    "Validation F1 0.4900471277582076\n",
    "\n",
    "2Validation AUC 0.7668440865966752\n",
    "Validation F1 0.7804824561403507\n",
    "\n",
    "3Validation AUC 0.9585138525884397\n",
    "Validation F1 0.5569245690253449\n",
    "\n",
    "4Validation AUC 0.7760579650066478\n",
    "Validation F1 0.4541390395820775\n",
    "\n",
    "5Validation AUC 0.5669661137764206\n",
    "Validation F1 0.2778831327170103\n",
    "\n",
    "\n",
    "mean \n",
    "1Validation AUC 0.6556487832864913\n",
    "Validation F1 0.41829934661096263\n",
    "\n",
    "2Validation AUC 0.7459972798506544\n",
    "Validation F1 0.45086899030292055\n",
    "\n",
    "3Validation AUC 0.9558852647419142\n",
    "Validation F1 0.6455153500432657\n",
    "\n",
    "4Validation AUC 0.8293288390989961\n",
    "Validation F1 0.5542757673234727\n",
    "\n",
    "5Validation AUC 0.5675759191947789\n",
    "Validation F1 0.18268731378955166\n",
    "\n",
    "\n",
    "Youdan indez + std on normal\n",
    "\n",
    "Validation AUC 0.710109286855248\n",
    "Validation F1 0.5778708367357263\n",
    "]\n",
    "Validation AUC 0.7521937010320048\n",
    "Validation F1 0.7712795062670994\n",
    "\n",
    "Validation AUC 0.9600471077318692\n",
    "Validation F1 0.55445315827434\n",
    "\n",
    "Validation AUC 0.8097037419935393\n",
    "Validation F1 0.45251649957176676\n",
    "\n",
    "Validation AUC 0.5705061448164643\n",
    "Validation F1 0.2927271691710136"
   ]
  },
  {
   "cell_type": "code",
   "execution_count": null,
   "metadata": {},
   "outputs": [],
   "source": []
  }
 ],
 "metadata": {
  "kernelspec": {
   "display_name": "Python 3",
   "language": "python",
   "name": "python3"
  },
  "language_info": {
   "codemirror_mode": {
    "name": "ipython",
    "version": 3
   },
   "file_extension": ".py",
   "mimetype": "text/x-python",
   "name": "python",
   "nbconvert_exporter": "python",
   "pygments_lexer": "ipython3",
   "version": "3.8.2"
  },
  "toc": {
   "base_numbering": 1,
   "nav_menu": {},
   "number_sections": true,
   "sideBar": true,
   "skip_h1_title": false,
   "title_cell": "Table of Contents",
   "title_sidebar": "Contents",
   "toc_cell": false,
   "toc_position": {},
   "toc_section_display": true,
   "toc_window_display": false
  },
  "varInspector": {
   "cols": {
    "lenName": 16,
    "lenType": 16,
    "lenVar": 40
   },
   "kernels_config": {
    "python": {
     "delete_cmd_postfix": "",
     "delete_cmd_prefix": "del ",
     "library": "var_list.py",
     "varRefreshCmd": "print(var_dic_list())"
    },
    "r": {
     "delete_cmd_postfix": ") ",
     "delete_cmd_prefix": "rm(",
     "library": "var_list.r",
     "varRefreshCmd": "cat(var_dic_list()) "
    }
   },
   "types_to_exclude": [
    "module",
    "function",
    "builtin_function_or_method",
    "instance",
    "_Feature"
   ],
   "window_display": false
  }
 },
 "nbformat": 4,
 "nbformat_minor": 4
}
