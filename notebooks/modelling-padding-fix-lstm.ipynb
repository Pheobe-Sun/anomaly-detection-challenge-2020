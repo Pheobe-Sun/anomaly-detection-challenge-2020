{
 "cells": [
  {
   "cell_type": "code",
   "execution_count": 1,
   "metadata": {},
   "outputs": [],
   "source": [
    "import os\n",
    "import sys\n",
    "\n",
    "import pandas as pd\n",
    "import numpy as np\n",
    "import matplotlib.pyplot as plt \n",
    "from sklearn.svm import OneClassSVM\n",
    "from sklearn.ensemble import IsolationForest\n",
    "from sklearn.metrics import f1_score, make_scorer\n",
    "from sklearn.preprocessing import MinMaxScaler, StandardScaler\n",
    "from sklearn.model_selection import train_test_split, cross_val_score, StratifiedKFold\n",
    "f1_scorer = make_scorer(f1_score, average=\"macro\")\n",
    "from sklearn.metrics import roc_auc_score\n",
    "\n",
    "from torch.optim import Adam\n",
    "# becuase we're in a nested folder...\n",
    "sys.path.append('../')\n",
    "\n",
    "from utils_ellen.preprocess import *\n",
    "from models.AEAD import AEAD"
   ]
  },
  {
   "cell_type": "code",
   "execution_count": 2,
   "metadata": {},
   "outputs": [],
   "source": [
    "data_dir_v2 =\"../for_students/data_v2\""
   ]
  },
  {
   "cell_type": "code",
   "execution_count": 3,
   "metadata": {},
   "outputs": [],
   "source": [
    "def load_data(data_dir, window_size):\n",
    "    '''\n",
    "    data_dir (str): Base directory of data \n",
    "    window_size (str): Window size for input examples\n",
    "    window_func (str): Window function reference as defined in utils.preprocess\n",
    "                       Option are either 'window' or 'window_func'\n",
    "    '''\n",
    "    train_dir = os.path.join(data_dir, 'training')\n",
    "    train_str = os.path.join(train_dir, 'training_{}.csv')\n",
    "    test_str = os.path.join(data_dir, 'dataset_{}.csv')\n",
    "\n",
    "    train_xs = []\n",
    "    train_ys = []\n",
    "    for i in [1, 2, 3, 4, 5, 100]: # file name updated to v2\n",
    "        train_df_i = pd.read_csv(train_str.format(str(i)))\n",
    "        \n",
    "    # adding padded values and then windowing\n",
    "        #         train_xi = window_func(train_df_i.kpi_value.values, window_size)\n",
    "        local_min = train_df_i.kpi_value[0:window_size].min() # Using the global min as the padding \n",
    "        pad_min = np.ones(window_size) * local_min\n",
    "        x_padded = np.concatenate([pad_min, train_df_i.kpi_value.values])\n",
    "        train_xi = [x_padded[j:j+window_size] for j in range(len(x_padded)-(window_size))]\n",
    "     \n",
    "        train_xs.append(train_xi)\n",
    "        train_ys.append(train_df_i.anomaly_label.values)\n",
    "    x_train = np.concatenate(train_xs)\n",
    "    y_train = np.concatenate(train_ys)\n",
    "    assert len(x_train) == len(y_train)\n",
    "    \n",
    "    test_xs = []\n",
    "    test_ys = []\n",
    "    for i in [1,2,3,4,5,6,7,8,9,10,11,12,13,100,101,102,103,105,106]:  # file name updated to v2\n",
    "        test_df_i = pd.read_csv(test_str.format(str(i)))\n",
    "#         test_xi = window_func(test_df_i.values[:,1], window_size)\n",
    "        test_local_min = test_df_i.kpi_value.values[0:window_size].min() # Using the local min as the padding \n",
    "        test_pad_min = np.ones(window_size) * test_local_min\n",
    "        test_x_padded = np.concatenate([test_pad_min, train_df_i.kpi_value.values])\n",
    "        test_xi = [test_x_padded[j:j+window_size] for j in range(len(test_x_padded)-(window_size))]\n",
    "\n",
    "    test_xs.append(test_xi)\n",
    "    x_test = np.concatenate(test_xs)\n",
    "    print(\"Train_x shape: {}\\nTrain_y shape: {}\\n\\nTest_x shape: {}\".format(x_train.shape, y_train.shape, x_test.shape))\n",
    "    return x_train, y_train, x_test\n",
    "\n",
    "def window_min_max(x):\n",
    "    x_min = x.min(axis=1).reshape(-1, 1)\n",
    "    x_max = x.max(axis=1).reshape(-1, 1)\n",
    "    for i in range(len(x)):\n",
    "        if x_max[i] > x_min[i]:\n",
    "            x[i] =  (x[i] - x_min[i])/(x_max[i] - x_min[i])\n",
    "        else:  # add scenario where x_max = x_min in a window \n",
    "            x[i] = 0\n",
    "    return x"
   ]
  },
  {
   "cell_type": "code",
   "execution_count": 4,
   "metadata": {},
   "outputs": [
    {
     "name": "stdout",
     "output_type": "stream",
     "text": [
      "Train_x shape: (54337, 100)\n",
      "Train_y shape: (54337,)\n",
      "\n",
      "Test_x shape: (20159, 100)\n"
     ]
    }
   ],
   "source": [
    "x_train, y_train, x_test = load_data(data_dir_v2, 100)"
   ]
  },
  {
   "cell_type": "code",
   "execution_count": 5,
   "metadata": {},
   "outputs": [],
   "source": [
    "# Window level normalisation\n",
    "x_train = window_min_max(x_train)\n",
    "x_test = window_min_max(x_test)"
   ]
  },
  {
   "cell_type": "code",
   "execution_count": 6,
   "metadata": {},
   "outputs": [],
   "source": [
    "# Cross val incides\n",
    "skf = StratifiedKFold(n_splits=5)"
   ]
  },
  {
   "cell_type": "code",
   "execution_count": 7,
   "metadata": {},
   "outputs": [],
   "source": [
    "aead_aucs = []\n",
    "for train_index, val_index in skf.split(x_train, y_train):\n",
    "    x_train_fold = x_train[train_index]\n",
    "    y_train_fold = y_train[train_index]\n",
    "    x_train_normal = x_train_fold[y_train_fold == 0]\n",
    "    y_train_normal = y_train_fold[y_train_fold == 0]\n",
    "\n",
    "    \n",
    "    x_val_fold = x_train[val_index]\n",
    "    y_val_fold = y_train[val_index]\n",
    "    \n",
    "    x_train_fold = window_min_max(x_train_fold)\n",
    "    x_val_fold = window_min_max(x_val_fold)\n",
    "\n",
    "#    aead = AEAD(100,256, 0.0001, 20, 'cpu', Adam).fit(x_train_normal,  y_train_normal)\n",
    "#    y_pred_aead = aead.predict(x_val_fold)\n",
    "#    val_auc = roc_auc_score(y_val_fold, y_pred_aead)\n",
    "#    print(sum(y_val_fold ))\n",
    "#    aead_aucs.append(val_auc)\n",
    "#    print(val_auc)\n",
    "#print(np.mean(aead_aucs))"
   ]
  },
  {
   "cell_type": "code",
   "execution_count": 8,
   "metadata": {},
   "outputs": [
    {
     "name": "stdout",
     "output_type": "stream",
     "text": [
      "2.3.0\n"
     ]
    }
   ],
   "source": [
    "import tensorflow as tf\n",
    "print(tf.__version__)"
   ]
  },
  {
   "cell_type": "code",
   "execution_count": 9,
   "metadata": {},
   "outputs": [],
   "source": [
    "#tf.get_logger().setLevel(40) # suppress deprecation messages\n",
    "#tf.compat.v1.disable_v2_behavior() # disable TF2 behaviour as alibi code still relies on TF1 constructs \n",
    "from tensorflow.keras import backend as K\n",
    "from tensorflow.keras.layers import Dense, Input\n",
    "from tensorflow.keras.models import Model, load_model\n",
    "from tensorflow.keras.utils import to_categorical"
   ]
  },
  {
   "cell_type": "code",
   "execution_count": 10,
   "metadata": {},
   "outputs": [],
   "source": [
    "from tensorflow import keras"
   ]
  },
  {
   "cell_type": "markdown",
   "metadata": {},
   "source": [
    "### LSTM Autoencoder --- From Keras \n",
    "\n",
    "See --- https://curiousily.com/posts/anomaly-detection-in-time-series-with-lstms-using-keras-in-python/#lstm-autoencoder-in-keras"
   ]
  },
  {
   "cell_type": "code",
   "execution_count": 11,
   "metadata": {},
   "outputs": [
    {
     "data": {
      "text/plain": [
       "(54337, 100)"
      ]
     },
     "execution_count": 11,
     "metadata": {},
     "output_type": "execute_result"
    }
   ],
   "source": [
    "x_train.shape"
   ]
  },
  {
   "cell_type": "code",
   "execution_count": 12,
   "metadata": {},
   "outputs": [],
   "source": [
    "x_train = x_train.reshape(x_train.shape[0], x_train.shape[1], 1)"
   ]
  },
  {
   "cell_type": "code",
   "execution_count": 13,
   "metadata": {},
   "outputs": [
    {
     "data": {
      "text/plain": [
       "(54337, 100, 1)"
      ]
     },
     "execution_count": 13,
     "metadata": {},
     "output_type": "execute_result"
    }
   ],
   "source": [
    "x_train.shape"
   ]
  },
  {
   "cell_type": "code",
   "execution_count": 16,
   "metadata": {},
   "outputs": [
    {
     "name": "stdout",
     "output_type": "stream",
     "text": [
      "Model: \"sequential_1\"\n",
      "_________________________________________________________________\n",
      "Layer (type)                 Output Shape              Param #   \n",
      "=================================================================\n",
      "lstm_2 (LSTM)                (None, 64)                16896     \n",
      "_________________________________________________________________\n",
      "dropout_2 (Dropout)          (None, 64)                0         \n",
      "_________________________________________________________________\n",
      "repeat_vector_1 (RepeatVecto (None, 100, 64)           0         \n",
      "_________________________________________________________________\n",
      "lstm_3 (LSTM)                (None, 100, 64)           33024     \n",
      "_________________________________________________________________\n",
      "dropout_3 (Dropout)          (None, 100, 64)           0         \n",
      "_________________________________________________________________\n",
      "time_distributed_1 (TimeDist (None, 100, 1)            65        \n",
      "=================================================================\n",
      "Total params: 49,985\n",
      "Trainable params: 49,985\n",
      "Non-trainable params: 0\n",
      "_________________________________________________________________\n"
     ]
    }
   ],
   "source": [
    "model = keras.Sequential()\n",
    "model.add(keras.layers.LSTM(\n",
    "    units=64, \n",
    "    input_shape=(x_train.shape[1], x_train.shape[2])))\n",
    "model.add(keras.layers.Dropout(rate=0.2))\n",
    "model.add(keras.layers.RepeatVector(n=x_train.shape[1]))\n",
    "model.add(keras.layers.LSTM(units=64, return_sequences=True))\n",
    "model.add(keras.layers.Dropout(rate=0.2))\n",
    "model.add(keras.layers.TimeDistributed(keras.layers.Dense(units=x_train.shape[2])))\n",
    "\n",
    "optimizer = tf.keras.optimizers.Adam(learning_rate=0.1,beta_1=0.9,beta_2=0.999,epsilon=1e-07,amsgrad=False,name=\"Adam\")\n",
    "\n",
    "\n",
    "\n",
    "model.compile(loss='mae', optimizer=optimizer)\n",
    "model.summary()"
   ]
  },
  {
   "cell_type": "code",
   "execution_count": 17,
   "metadata": {},
   "outputs": [
    {
     "name": "stdout",
     "output_type": "stream",
     "text": [
      "Epoch 1/10\n",
      "383/383 [==============================] - 50s 129ms/step - loss: 0.4931 - val_loss: 0.5123\n",
      "Epoch 2/10\n",
      "383/383 [==============================] - 58s 151ms/step - loss: 0.4801 - val_loss: 1.5865\n",
      "Epoch 3/10\n",
      "383/383 [==============================] - 59s 155ms/step - loss: 0.4239 - val_loss: 0.1166\n",
      "Epoch 4/10\n",
      "383/383 [==============================] - 60s 156ms/step - loss: 0.4207 - val_loss: 0.0501\n",
      "Epoch 5/10\n",
      "383/383 [==============================] - 60s 156ms/step - loss: 0.3899 - val_loss: 0.3495\n",
      "Epoch 6/10\n",
      "383/383 [==============================] - 60s 157ms/step - loss: 0.3380 - val_loss: 0.7487\n",
      "Epoch 7/10\n",
      "383/383 [==============================] - 61s 160ms/step - loss: 0.2994 - val_loss: 0.2315\n",
      "Epoch 8/10\n",
      "383/383 [==============================] - 60s 156ms/step - loss: 0.4663 - val_loss: 0.8913\n",
      "Epoch 9/10\n",
      "383/383 [==============================] - 58s 151ms/step - loss: 0.3813 - val_loss: 0.4226\n",
      "Epoch 10/10\n",
      "383/383 [==============================] - 56s 147ms/step - loss: 0.4066 - val_loss: 0.6829\n"
     ]
    }
   ],
   "source": [
    "history = model.fit(x_train, y_train, validation_split=.1,\n",
    "    epochs=10, batch_size=128, shuffle=False)"
   ]
  },
  {
   "cell_type": "code",
   "execution_count": 18,
   "metadata": {},
   "outputs": [
    {
     "data": {
      "image/png": "[encoded data removed]",
      "text/plain": [
       "<Figure size 432x288 with 1 Axes>"
      ]
     },
     "metadata": {
      "needs_background": "light"
     },
     "output_type": "display_data"
    }
   ],
   "source": [
    "plt.plot(history.history['loss'], label='train')\n",
    "plt.plot(history.history['val_loss'], label='test')\n",
    "plt.legend();"
   ]
  },
  {
   "cell_type": "code",
   "execution_count": 19,
   "metadata": {},
   "outputs": [],
   "source": [
    "x_train_pred = model.predict(x_train)\n",
    "train_mae_loss = np.mean(np.abs(x_train_pred - x_train), axis=1)"
   ]
  },
  {
   "cell_type": "code",
   "execution_count": 20,
   "metadata": {},
   "outputs": [
    {
     "data": {
      "text/plain": [
       "array([[0.66047306],\n",
       "       [0.67007454],\n",
       "       [0.67441808],\n",
       "       ...,\n",
       "       [1.32277131],\n",
       "       [1.3279148 ],\n",
       "       [1.33207908]])"
      ]
     },
     "execution_count": 20,
     "metadata": {},
     "output_type": "execute_result"
    }
   ],
   "source": [
    "train_mae_loss"
   ]
  },
  {
   "cell_type": "code",
   "execution_count": 21,
   "metadata": {},
   "outputs": [],
   "source": [
    "import seaborn as sns"
   ]
  },
  {
   "cell_type": "code",
   "execution_count": 22,
   "metadata": {},
   "outputs": [
    {
     "name": "stderr",
     "output_type": "stream",
     "text": [
      "C:\\Users\\eoind\\Anaconda3\\envs\\tensorflow-cpu\\lib\\site-packages\\seaborn\\distributions.py:2551: FutureWarning: `distplot` is a deprecated function and will be removed in a future version. Please adapt your code to use either `displot` (a figure-level function with similar flexibility) or `histplot` (an axes-level function for histograms).\n",
      "  warnings.warn(msg, FutureWarning)\n"
     ]
    },
    {
     "data": {
      "image/png": "[encoded data removed]",
      "text/plain": [
       "<Figure size 432x288 with 1 Axes>"
      ]
     },
     "metadata": {
      "needs_background": "light"
     },
     "output_type": "display_data"
    }
   ],
   "source": [
    "sns.distplot(train_mae_loss, bins=50, kde=True);"
   ]
  },
  {
   "cell_type": "code",
   "execution_count": 28,
   "metadata": {},
   "outputs": [],
   "source": [
    "THRESHOLD = 1.5\n",
    "\n",
    "df = pd.DataFrame(train_mae_loss)\n",
    "df.columns=['loss']\n",
    "df['label'] = y_train\n",
    "df['threshold'] = THRESHOLD\n",
    "df['anomaly'] = df.loss > df.threshold\n",
    "anomalies = df[df.anomaly == True]\n"
   ]
  },
  {
   "cell_type": "code",
   "execution_count": 29,
   "metadata": {},
   "outputs": [
    {
     "data": {
      "text/html": [
       "<div>\n",
       "<style scoped>\n",
       "    .dataframe tbody tr th:only-of-type {\n",
       "        vertical-align: middle;\n",
       "    }\n",
       "\n",
       "    .dataframe tbody tr th {\n",
       "        vertical-align: top;\n",
       "    }\n",
       "\n",
       "    .dataframe thead th {\n",
       "        text-align: right;\n",
       "    }\n",
       "</style>\n",
       "<table border=\"1\" class=\"dataframe\">\n",
       "  <thead>\n",
       "    <tr style=\"text-align: right;\">\n",
       "      <th></th>\n",
       "      <th>loss</th>\n",
       "      <th>label</th>\n",
       "      <th>threshold</th>\n",
       "      <th>anomaly</th>\n",
       "    </tr>\n",
       "  </thead>\n",
       "  <tbody>\n",
       "    <tr>\n",
       "      <th>34280</th>\n",
       "      <td>1.500248</td>\n",
       "      <td>0</td>\n",
       "      <td>1.5</td>\n",
       "      <td>True</td>\n",
       "    </tr>\n",
       "    <tr>\n",
       "      <th>34281</th>\n",
       "      <td>1.501968</td>\n",
       "      <td>0</td>\n",
       "      <td>1.5</td>\n",
       "      <td>True</td>\n",
       "    </tr>\n",
       "    <tr>\n",
       "      <th>34282</th>\n",
       "      <td>1.503459</td>\n",
       "      <td>0</td>\n",
       "      <td>1.5</td>\n",
       "      <td>True</td>\n",
       "    </tr>\n",
       "    <tr>\n",
       "      <th>34283</th>\n",
       "      <td>1.503820</td>\n",
       "      <td>0</td>\n",
       "      <td>1.5</td>\n",
       "      <td>True</td>\n",
       "    </tr>\n",
       "    <tr>\n",
       "      <th>34284</th>\n",
       "      <td>1.505217</td>\n",
       "      <td>0</td>\n",
       "      <td>1.5</td>\n",
       "      <td>True</td>\n",
       "    </tr>\n",
       "    <tr>\n",
       "      <th>...</th>\n",
       "      <td>...</td>\n",
       "      <td>...</td>\n",
       "      <td>...</td>\n",
       "      <td>...</td>\n",
       "    </tr>\n",
       "    <tr>\n",
       "      <th>54261</th>\n",
       "      <td>1.514888</td>\n",
       "      <td>0</td>\n",
       "      <td>1.5</td>\n",
       "      <td>True</td>\n",
       "    </tr>\n",
       "    <tr>\n",
       "      <th>54262</th>\n",
       "      <td>1.517593</td>\n",
       "      <td>0</td>\n",
       "      <td>1.5</td>\n",
       "      <td>True</td>\n",
       "    </tr>\n",
       "    <tr>\n",
       "      <th>54263</th>\n",
       "      <td>1.519369</td>\n",
       "      <td>0</td>\n",
       "      <td>1.5</td>\n",
       "      <td>True</td>\n",
       "    </tr>\n",
       "    <tr>\n",
       "      <th>54264</th>\n",
       "      <td>1.511719</td>\n",
       "      <td>0</td>\n",
       "      <td>1.5</td>\n",
       "      <td>True</td>\n",
       "    </tr>\n",
       "    <tr>\n",
       "      <th>54265</th>\n",
       "      <td>1.511610</td>\n",
       "      <td>0</td>\n",
       "      <td>1.5</td>\n",
       "      <td>True</td>\n",
       "    </tr>\n",
       "  </tbody>\n",
       "</table>\n",
       "<p>1590 rows × 4 columns</p>\n",
       "</div>"
      ],
      "text/plain": [
       "           loss  label  threshold  anomaly\n",
       "34280  1.500248      0        1.5     True\n",
       "34281  1.501968      0        1.5     True\n",
       "34282  1.503459      0        1.5     True\n",
       "34283  1.503820      0        1.5     True\n",
       "34284  1.505217      0        1.5     True\n",
       "...         ...    ...        ...      ...\n",
       "54261  1.514888      0        1.5     True\n",
       "54262  1.517593      0        1.5     True\n",
       "54263  1.519369      0        1.5     True\n",
       "54264  1.511719      0        1.5     True\n",
       "54265  1.511610      0        1.5     True\n",
       "\n",
       "[1590 rows x 4 columns]"
      ]
     },
     "execution_count": 29,
     "metadata": {},
     "output_type": "execute_result"
    }
   ],
   "source": [
    "anomalies"
   ]
  },
  {
   "cell_type": "code",
   "execution_count": 30,
   "metadata": {},
   "outputs": [
    {
     "data": {
      "text/html": [
       "<div>\n",
       "<style scoped>\n",
       "    .dataframe tbody tr th:only-of-type {\n",
       "        vertical-align: middle;\n",
       "    }\n",
       "\n",
       "    .dataframe tbody tr th {\n",
       "        vertical-align: top;\n",
       "    }\n",
       "\n",
       "    .dataframe thead th {\n",
       "        text-align: right;\n",
       "    }\n",
       "</style>\n",
       "<table border=\"1\" class=\"dataframe\">\n",
       "  <thead>\n",
       "    <tr style=\"text-align: right;\">\n",
       "      <th></th>\n",
       "      <th>loss</th>\n",
       "      <th>label</th>\n",
       "      <th>threshold</th>\n",
       "      <th>anomaly</th>\n",
       "    </tr>\n",
       "  </thead>\n",
       "  <tbody>\n",
       "    <tr>\n",
       "      <th>6922</th>\n",
       "      <td>0.691325</td>\n",
       "      <td>1</td>\n",
       "      <td>1.5</td>\n",
       "      <td>False</td>\n",
       "    </tr>\n",
       "    <tr>\n",
       "      <th>6923</th>\n",
       "      <td>0.684440</td>\n",
       "      <td>1</td>\n",
       "      <td>1.5</td>\n",
       "      <td>False</td>\n",
       "    </tr>\n",
       "    <tr>\n",
       "      <th>6924</th>\n",
       "      <td>0.683174</td>\n",
       "      <td>1</td>\n",
       "      <td>1.5</td>\n",
       "      <td>False</td>\n",
       "    </tr>\n",
       "    <tr>\n",
       "      <th>6925</th>\n",
       "      <td>0.694634</td>\n",
       "      <td>1</td>\n",
       "      <td>1.5</td>\n",
       "      <td>False</td>\n",
       "    </tr>\n",
       "    <tr>\n",
       "      <th>6926</th>\n",
       "      <td>0.716003</td>\n",
       "      <td>1</td>\n",
       "      <td>1.5</td>\n",
       "      <td>False</td>\n",
       "    </tr>\n",
       "    <tr>\n",
       "      <th>...</th>\n",
       "      <td>...</td>\n",
       "      <td>...</td>\n",
       "      <td>...</td>\n",
       "      <td>...</td>\n",
       "    </tr>\n",
       "    <tr>\n",
       "      <th>47572</th>\n",
       "      <td>1.452496</td>\n",
       "      <td>1</td>\n",
       "      <td>1.5</td>\n",
       "      <td>False</td>\n",
       "    </tr>\n",
       "    <tr>\n",
       "      <th>47573</th>\n",
       "      <td>1.454791</td>\n",
       "      <td>1</td>\n",
       "      <td>1.5</td>\n",
       "      <td>False</td>\n",
       "    </tr>\n",
       "    <tr>\n",
       "      <th>47574</th>\n",
       "      <td>1.438449</td>\n",
       "      <td>1</td>\n",
       "      <td>1.5</td>\n",
       "      <td>False</td>\n",
       "    </tr>\n",
       "    <tr>\n",
       "      <th>47575</th>\n",
       "      <td>1.437514</td>\n",
       "      <td>1</td>\n",
       "      <td>1.5</td>\n",
       "      <td>False</td>\n",
       "    </tr>\n",
       "    <tr>\n",
       "      <th>47576</th>\n",
       "      <td>1.425360</td>\n",
       "      <td>1</td>\n",
       "      <td>1.5</td>\n",
       "      <td>False</td>\n",
       "    </tr>\n",
       "  </tbody>\n",
       "</table>\n",
       "<p>2281 rows × 4 columns</p>\n",
       "</div>"
      ],
      "text/plain": [
       "           loss  label  threshold  anomaly\n",
       "6922   0.691325      1        1.5    False\n",
       "6923   0.684440      1        1.5    False\n",
       "6924   0.683174      1        1.5    False\n",
       "6925   0.694634      1        1.5    False\n",
       "6926   0.716003      1        1.5    False\n",
       "...         ...    ...        ...      ...\n",
       "47572  1.452496      1        1.5    False\n",
       "47573  1.454791      1        1.5    False\n",
       "47574  1.438449      1        1.5    False\n",
       "47575  1.437514      1        1.5    False\n",
       "47576  1.425360      1        1.5    False\n",
       "\n",
       "[2281 rows x 4 columns]"
      ]
     },
     "execution_count": 30,
     "metadata": {},
     "output_type": "execute_result"
    }
   ],
   "source": [
    "df[df.label==1]"
   ]
  },
  {
   "cell_type": "code",
   "execution_count": null,
   "metadata": {},
   "outputs": [],
   "source": []
  }
 ],
 "metadata": {
  "kernelspec": {
   "display_name": "Python 3",
   "language": "python",
   "name": "python3"
  },
  "language_info": {
   "codemirror_mode": {
    "name": "ipython",
    "version": 3
   },
   "file_extension": ".py",
   "mimetype": "text/x-python",
   "name": "python",
   "nbconvert_exporter": "python",
   "pygments_lexer": "ipython3",
   "version": "3.7.9"
  },
  "toc": {
   "base_numbering": 1,
   "nav_menu": {},
   "number_sections": true,
   "sideBar": true,
   "skip_h1_title": false,
   "title_cell": "Table of Contents",
   "title_sidebar": "Contents",
   "toc_cell": false,
   "toc_position": {},
   "toc_section_display": true,
   "toc_window_display": false
  },
  "varInspector": {
   "cols": {
    "lenName": 16,
    "lenType": 16,
    "lenVar": 40
   },
   "kernels_config": {
    "python": {
     "delete_cmd_postfix": "",
     "delete_cmd_prefix": "del ",
     "library": "var_list.py",
     "varRefreshCmd": "print(var_dic_list())"
    },
    "r": {
     "delete_cmd_postfix": ") ",
     "delete_cmd_prefix": "rm(",
     "library": "var_list.r",
     "varRefreshCmd": "cat(var_dic_list()) "
    }
   },
   "types_to_exclude": [
    "module",
    "function",
    "builtin_function_or_method",
    "instance",
    "_Feature"
   ],
   "window_display": false
  }
 },
 "nbformat": 4,
 "nbformat_minor": 4
}
