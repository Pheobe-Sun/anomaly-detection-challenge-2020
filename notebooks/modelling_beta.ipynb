{
 "cells": [
  {
   "cell_type": "code",
   "execution_count": 12,
   "metadata": {},
   "outputs": [],
   "source": [
    "import os\n",
    "import sys\n",
    "\n",
    "import pandas as pd\n",
    "import numpy as np\n",
    "import matplotlib.pyplot as plt \n",
    "from sklearn.svm import OneClassSVM\n",
    "from sklearn.ensemble import IsolationForest\n",
    "from sklearn.metrics import f1_score\n",
    "from sklearn.preprocessing import MinMaxScaler\n",
    "# becuase we're in a nested folder...\n",
    "sys.path.append('../')\n",
    "from utils.preprocess import *"
   ]
  },
  {
   "cell_type": "code",
   "execution_count": 13,
   "metadata": {},
   "outputs": [],
   "source": [
    "data_dir =\"../for_students/data_v1\""
   ]
  },
  {
   "cell_type": "code",
   "execution_count": 14,
   "metadata": {},
   "outputs": [],
   "source": [
    "def load_data(data_dir, window_size, window_func):\n",
    "    '''\n",
    "    data_dir (str): Base directory of data \n",
    "    window_size (str): Window size for input examples\n",
    "    window_func (str): Window function reference as defined in utils.preprocess\n",
    "                       Option are either 'window' or 'window_func'\n",
    "    '''\n",
    "    train_dir = os.path.join(data_dir, 'training')\n",
    "    train_str = os.path.join(train_dir, 'training_{}.csv')\n",
    "    test_str = os.path.join(data_dir, 'dataset_{}.csv')\n",
    "\n",
    "    train_xs = []\n",
    "    train_ys = []\n",
    "    for i in range(1,4):\n",
    "        train_df_i = pd.read_csv(train_str.format(str(i)))\n",
    "        train_xi = window_func(train_df_i.value.values, window_size)\n",
    "        train_xs.append(train_xi)\n",
    "        train_ys.append(train_df_i.label.values)\n",
    "    x_train = np.concatenate(train_xs)\n",
    "    y_train = np.concatenate(train_ys)\n",
    "    assert len(x_train) == len(y_train)\n",
    "    \n",
    "    test_xs = []\n",
    "    test_ys = []\n",
    "    for i in range(1,7):\n",
    "        test_df_i = pd.read_csv(test_str.format(str(i)))\n",
    "        test_xi = window_func(test_df_i.values[:,1], window_size)\n",
    "        test_xs.append(test_xi)\n",
    "    x_test = np.concatenate(test_xs)\n",
    "    print(\"Train x shape: {}\\nTrain y shape: {}\\n\\nTest x shape: {}\".format(x_train.shape, y_train.shape, x_test.shape))\n",
    "    return x_train, y_train, x_test"
   ]
  },
  {
   "cell_type": "markdown",
   "metadata": {},
   "source": [
    "### Window Data"
   ]
  },
  {
   "cell_type": "code",
   "execution_count": 15,
   "metadata": {},
   "outputs": [
    {
     "name": "stdout",
     "output_type": "stream",
     "text": [
      "Train x shape: (12096, 100)\n",
      "Train y shape: (12096,)\n",
      "\n",
      "Test x shape: (39476, 100)\n"
     ]
    }
   ],
   "source": [
    "x_train, y_train, x_test = load_data(data_dir, 100, window_offset)"
   ]
  },
  {
   "cell_type": "code",
   "execution_count": 16,
   "metadata": {},
   "outputs": [],
   "source": [
    "x_train_normal = x_train[y_train == 0]\n",
    "# We may be able to get min max parameters from training set. We should do cross validation also. \n",
    "minmax_scalar = MinMaxScaler()\n",
    "minmax_scalar.fit(x_train_normal)\n",
    "x_train_normal_min_max = minmax_scalar.transform(x_train_normal)\n",
    "x_train_min_max = minmax_scalar.transform(x_train)"
   ]
  },
  {
   "cell_type": "markdown",
   "metadata": {},
   "source": [
    "### OCSVM"
   ]
  },
  {
   "cell_type": "code",
   "execution_count": 17,
   "metadata": {},
   "outputs": [],
   "source": [
    "# Train on normal data\n",
    "ocsvm = OneClassSVM(gamma='auto').fit(x_train_normal)\n",
    "# check performance on training set for sanity check. \n",
    "y_pred_ocsvm = ocsvm.predict(x_train)\n",
    "y_pred_ocsvm[y_pred_ocsvm==1] = 0\n",
    "y_pred_ocsvm[y_pred_ocsvm==-1] = 1\n",
    "ocsvm_f1 = f1_score(y_train, y_pred_ocsvm, average='macro')"
   ]
  },
  {
   "cell_type": "code",
   "execution_count": 18,
   "metadata": {},
   "outputs": [],
   "source": [
    "# Train on normal data\n",
    "ocsvm_min_max = OneClassSVM(gamma='auto').fit(x_train_normal_min_max )\n",
    "# check performance on training set for sanity check. \n",
    "y_pred_ocsvm_min_max = ocsvm.predict(x_train_min_max)\n",
    "y_pred_ocsvm_min_max[y_pred_ocsvm_min_max==1] = 0\n",
    "y_pred_ocsvm_min_max[y_pred_ocsvm_min_max==-1] = 1\n",
    "ocsvm_f1_min_max = f1_score(y_train, y_pred_ocsvm_min_max, average='macro')"
   ]
  },
  {
   "cell_type": "code",
   "execution_count": 19,
   "metadata": {},
   "outputs": [
    {
     "name": "stdout",
     "output_type": "stream",
     "text": [
      "0.3431233160533406\n",
      "0.4949688948269384\n"
     ]
    }
   ],
   "source": [
    "print(ocsvm_f1)\n",
    "print(ocsvm_f1_min_max)"
   ]
  },
  {
   "cell_type": "markdown",
   "metadata": {},
   "source": [
    "### iForest"
   ]
  },
  {
   "cell_type": "code",
   "execution_count": 20,
   "metadata": {},
   "outputs": [],
   "source": [
    "iforest = IsolationForest().fit(x_train_normal)\n",
    "# check performance on training set for sanity check. \n",
    "y_pred_iforest = iforest.predict(x_train)\n",
    "y_pred_iforest[y_pred_iforest==1] = 0\n",
    "y_pred_iforest[y_pred_iforest==-1] = 1\n",
    "iforest_f1 = f1_score(y_train, y_pred_iforest, average='macro')"
   ]
  },
  {
   "cell_type": "code",
   "execution_count": 21,
   "metadata": {},
   "outputs": [],
   "source": [
    "iforest_min_max = IsolationForest().fit(x_train_normal_min_max)\n",
    "# check performance on training set for sanity check. \n",
    "y_pred_iforest_min_max = iforest.predict(x_train_min_max)\n",
    "y_pred_iforest_min_max[y_pred_iforest==1] = 0\n",
    "y_pred_iforest_min_max[y_pred_iforest==-1] = 1\n",
    "iforest_f1_min_max = f1_score(y_train, y_pred_iforest_min_max, average='macro')"
   ]
  },
  {
   "cell_type": "code",
   "execution_count": 23,
   "metadata": {},
   "outputs": [
    {
     "name": "stdout",
     "output_type": "stream",
     "text": [
      "0.39325842696629215\n",
      "0.2819524534463278\n"
     ]
    }
   ],
   "source": [
    "print(iforest_f1 )\n",
    "print(iforest_f1_min_max)"
   ]
  },
  {
   "cell_type": "code",
   "execution_count": null,
   "metadata": {},
   "outputs": [],
   "source": []
  }
 ],
 "metadata": {
  "kernelspec": {
   "display_name": "Python 3",
   "language": "python",
   "name": "python3"
  },
  "language_info": {
   "codemirror_mode": {
    "name": "ipython",
    "version": 3
   },
   "file_extension": ".py",
   "mimetype": "text/x-python",
   "name": "python",
   "nbconvert_exporter": "python",
   "pygments_lexer": "ipython3",
   "version": "3.8.2"
  }
 },
 "nbformat": 4,
 "nbformat_minor": 4
}
