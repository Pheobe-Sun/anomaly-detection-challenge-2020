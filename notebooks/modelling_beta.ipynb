{
 "cells": [
  {
   "cell_type": "code",
   "execution_count": 11,
   "metadata": {},
   "outputs": [],
   "source": [
    "import os\n",
    "import sys\n",
    "import glob\n",
    "import pandas as pd\n",
    "import numpy as np\n",
    "import matplotlib.pyplot as plt \n",
    "from sklearn.svm import OneClassSVM\n",
    "from sklearn.ensemble import IsolationForest\n",
    "from sklearn.metrics import f1_score, make_scorer\n",
    "from sklearn.preprocessing import MinMaxScaler, StandardScaler\n",
    "from sklearn.model_selection import train_test_split, cross_val_score, StratifiedKFold\n",
    "f1_scorer = make_scorer(f1_score, average=\"macro\")\n",
    "from sklearn.metrics import roc_auc_score\n",
    "\n",
    "from torch.optim import Adam\n",
    "# becuase we're in a nested folder...\n",
    "sys.path.append('../')\n",
    "\n",
    "from utils.preprocess import *\n",
    "from models.AEAD import AEAD"
   ]
  },
  {
   "cell_type": "markdown",
   "metadata": {},
   "source": [
    "## TAKE AWAY FROM WEEKEND: WINDOW-LEVEL NORMALIZATION PLAYS VERY NICELY WITH NEURAL NETWORKS. "
   ]
  },
  {
   "cell_type": "code",
   "execution_count": 30,
   "metadata": {},
   "outputs": [],
   "source": [
    "data_dir =\"../for_students/data_v2\""
   ]
  },
  {
   "cell_type": "code",
   "execution_count": 70,
   "metadata": {},
   "outputs": [],
   "source": [
    "def load_data(data_dir, window_size, window_func):\n",
    "    '''\n",
    "    data_dir (str): Base directory of data \n",
    "    window_size (str): Window size for input examples\n",
    "    window_func (str): Window function reference as defined in utils.preprocess\n",
    "                       Option are either 'window' or 'window_func'\n",
    "    '''\n",
    "    train_dir = os.path.join(data_dir, 'training')\n",
    "\n",
    "    train_xs = []\n",
    "    train_ys = []\n",
    "    for i in glob.glob(os.path.join(train_dir, \"*.csv\")):\n",
    "        train_df_i = pd.read_csv(i)\n",
    "        train_xi = window_func(train_df_i.kpi_value.values, window_size)\n",
    "        train_xs.append(train_xi)\n",
    "        train_ys.append(train_df_i.anomaly_label.values)\n",
    "    x_train = np.concatenate(train_xs)\n",
    "    y_train = np.concatenate(train_ys)\n",
    "    assert len(x_train) == len(y_train)\n",
    "    \n",
    "    test_xs = []\n",
    "    test_ys = []\n",
    "    for i in glob.glob(os.path.join(data_dir, \"*.csv\")):\n",
    "        test_df_i = pd.read_csv(i)\n",
    "        test_xi = window_func(test_df_i.values[:,1], window_size)\n",
    "        test_xs.append(test_xi)\n",
    "    x_test = np.concatenate(test_xs)\n",
    "    print(\"Train x shape: {}\\nTrain y shape: {}\\n\\nTest x shape: {}\".format(x_train.shape, y_train.shape, x_test.shape))\n",
    "    return x_train, y_train, x_test\n",
    "\n",
    "def window_min_max(x):\n",
    "    x_min = x.min(axis=1).reshape(-1, 1)\n",
    "    x_max = x.max(axis=1).reshape(-1, 1)\n",
    "    all_zeros = 0\n",
    "    for i in range(len(x)):\n",
    "        if abs(x_min[i]-x_max[i])> 1e-10:\n",
    "            x[i] =  (x[i] - x_min[i])/(x_max[i] - x_min[i])\n",
    "        else:\n",
    "            # If all values are the same, keep al values are zero. \n",
    "            x[i] = 0\n",
    "            all_zeros+=1\n",
    "    print(\"Percentage of windows that are null:\", 100*(all_zeros/len(x)))\n",
    "    return x"
   ]
  },
  {
   "cell_type": "markdown",
   "metadata": {},
   "source": [
    "### Window Data"
   ]
  },
  {
   "cell_type": "code",
   "execution_count": 71,
   "metadata": {},
   "outputs": [
    {
     "name": "stdout",
     "output_type": "stream",
     "text": [
      "Train x shape: (54337, 100)\n",
      "Train y shape: (54337,)\n",
      "\n",
      "Test x shape: (205610, 100)\n",
      "Percentage of windows that are null: 0.46009165025673116\n",
      "Percentage of windows that are null: 12.588881863722582\n"
     ]
    }
   ],
   "source": [
    "x_train, y_train, x_test = load_data(data_dir, 100, window)\n",
    "# Window level normalisation\n",
    "x_train = window_min_max(x_train)\n",
    "\n",
    "x_test = window_min_max(x_test)"
   ]
  },
  {
   "cell_type": "code",
   "execution_count": 69,
   "metadata": {},
   "outputs": [],
   "source": [
    "# Cross val incides\n",
    "skf = StratifiedKFold(n_splits=5)"
   ]
  },
  {
   "cell_type": "code",
   "execution_count": 43,
   "metadata": {},
   "outputs": [],
   "source": [
    "## We may be able to get min max parameters from training set. We should do cross validation also. \n",
    "# minmax_scalar = MinMaxScaler()\n",
    "# minmax_scalar.fit(x_train_normal)\n",
    "# x_train_normal_min_max = minmax_scalar.transform(x_train_normal)\n",
    "# x_train_min_max = minmax_scalar.transform(x_train)"
   ]
  },
  {
   "cell_type": "markdown",
   "metadata": {},
   "source": [
    "### OCSVM"
   ]
  },
  {
   "cell_type": "code",
   "execution_count": 9,
   "metadata": {},
   "outputs": [
    {
     "name": "stdout",
     "output_type": "stream",
     "text": [
      "0.44234858809509703\n",
      "0.3060673555749642\n",
      "0.021835826930853213\n",
      "0.44661543494676426\n",
      "0.2661503285140415\n"
     ]
    }
   ],
   "source": [
    "for train_index, val_index in skf.split(x_train, y_train):\n",
    "    x_train_fold = x_train[train_index]\n",
    "    y_train_fold = y_train[train_index]\n",
    "    x_train_normal = x_train_fold[y_train_fold == 0]\n",
    "\n",
    "    x_val_fold = x_train[val_index]\n",
    "    y_val_fold = y_train[val_index]\n",
    "    \n",
    "    # Train on normal data\n",
    "    ocsvm = OneClassSVM(gamma='auto').fit(x_train_normal)\n",
    "    # check performance on training set for sanity check. \n",
    "    y_pred_ocsvm = ocsvm.predict(x_val_fold)\n",
    "\n",
    "    y_pred_ocsvm[y_pred_ocsvm==1] = 0\n",
    "    y_pred_ocsvm[y_pred_ocsvm==-1] = 1\n",
    "    ocsvm_f1 = f1_score(y_val_fold, y_pred_ocsvm, average='macro')\n",
    "    print(ocsvm_f1)"
   ]
  },
  {
   "cell_type": "markdown",
   "metadata": {},
   "source": [
    "### iForest"
   ]
  },
  {
   "cell_type": "code",
   "execution_count": 10,
   "metadata": {},
   "outputs": [
    {
     "name": "stdout",
     "output_type": "stream",
     "text": [
      "0.019008264462809916\n",
      "0.2583036974704906\n",
      "0.7870261132925992\n",
      "0.2636592729359515\n",
      "0.02223120452708165\n"
     ]
    }
   ],
   "source": [
    "for train_index, val_index in skf.split(x_train, y_train):\n",
    "    x_train_fold = x_train[train_index]\n",
    "    y_train_fold = y_train[train_index]\n",
    "    x_train_normal = x_train_fold[y_train_fold == 0]\n",
    "\n",
    "    x_val_fold = x_train[val_index]\n",
    "    y_val_fold = y_train[val_index]\n",
    "    \n",
    "    # Train on normal data\n",
    "    iforest = IsolationForest().fit(x_train_normal)\n",
    "    y_pred_iforest = iforest.predict(x_val_fold)\n",
    "\n",
    "    y_pred_iforest[y_pred_iforest==1] = 0\n",
    "    y_pred_iforest[y_pred_iforest==-1] = 1\n",
    "    iforest_f1 = f1_score(y_val_fold, y_pred_iforest, average='macro')\n",
    "    print(iforest_f1)"
   ]
  },
  {
   "cell_type": "markdown",
   "metadata": {},
   "source": [
    "### Normal AE (Without finetuning)"
   ]
  },
  {
   "cell_type": "code",
   "execution_count": 11,
   "metadata": {},
   "outputs": [
    {
     "name": "stdout",
     "output_type": "stream",
     "text": [
      "Train Epoch: 1\tLoss: 0.210391\n",
      "Train Epoch: 2\tLoss: 0.185857\n",
      "Train Epoch: 3\tLoss: 0.120992\n",
      "Train Epoch: 4\tLoss: 0.074716\n",
      "Train Epoch: 5\tLoss: 0.065574\n",
      "Train Epoch: 6\tLoss: 0.063741\n",
      "Train Epoch: 7\tLoss: 0.063076\n",
      "Train Epoch: 8\tLoss: 0.062695\n",
      "Train Epoch: 9\tLoss: 0.062409\n",
      "Train Epoch: 10\tLoss: 0.062172\n",
      "Train Epoch: 11\tLoss: 0.062006\n",
      "Train Epoch: 12\tLoss: 0.061868\n",
      "Train Epoch: 13\tLoss: 0.061753\n",
      "Train Epoch: 14\tLoss: 0.061636\n",
      "Train Epoch: 15\tLoss: 0.061505\n",
      "Train Epoch: 16\tLoss: 0.061363\n",
      "Train Epoch: 17\tLoss: 0.061200\n",
      "Train Epoch: 18\tLoss: 0.060997\n",
      "Train Epoch: 19\tLoss: 0.060769\n",
      "Train Epoch: 20\tLoss: 0.060507\n",
      "55\n",
      "0.48581203152027663\n",
      "Train Epoch: 1\tLoss: 0.233726\n",
      "Train Epoch: 2\tLoss: 0.211161\n",
      "Train Epoch: 3\tLoss: 0.143856\n",
      "Train Epoch: 4\tLoss: 0.078989\n",
      "Train Epoch: 5\tLoss: 0.069230\n",
      "Train Epoch: 6\tLoss: 0.067862\n",
      "Train Epoch: 7\tLoss: 0.067334\n",
      "Train Epoch: 8\tLoss: 0.066995\n",
      "Train Epoch: 9\tLoss: 0.066754\n",
      "Train Epoch: 10\tLoss: 0.066550\n",
      "Train Epoch: 11\tLoss: 0.066389\n",
      "Train Epoch: 12\tLoss: 0.066218\n",
      "Train Epoch: 13\tLoss: 0.066044\n",
      "Train Epoch: 14\tLoss: 0.065853\n",
      "Train Epoch: 15\tLoss: 0.065646\n",
      "Train Epoch: 16\tLoss: 0.065428\n",
      "Train Epoch: 17\tLoss: 0.065188\n",
      "Train Epoch: 18\tLoss: 0.064950\n",
      "Train Epoch: 19\tLoss: 0.064702\n",
      "Train Epoch: 20\tLoss: 0.064444\n",
      "54\n",
      "0.9985670660089265\n",
      "Train Epoch: 1\tLoss: 0.290304\n",
      "Train Epoch: 2\tLoss: 0.257832\n",
      "Train Epoch: 3\tLoss: 0.169887\n",
      "Train Epoch: 4\tLoss: 0.093488\n",
      "Train Epoch: 5\tLoss: 0.079526\n",
      "Train Epoch: 6\tLoss: 0.077882\n",
      "Train Epoch: 7\tLoss: 0.077522\n",
      "Train Epoch: 8\tLoss: 0.077260\n",
      "Train Epoch: 9\tLoss: 0.077028\n",
      "Train Epoch: 10\tLoss: 0.076845\n",
      "Train Epoch: 11\tLoss: 0.076697\n",
      "Train Epoch: 12\tLoss: 0.076553\n",
      "Train Epoch: 13\tLoss: 0.076398\n",
      "Train Epoch: 14\tLoss: 0.076220\n",
      "Train Epoch: 15\tLoss: 0.076024\n",
      "Train Epoch: 16\tLoss: 0.075794\n",
      "Train Epoch: 17\tLoss: 0.075517\n",
      "Train Epoch: 18\tLoss: 0.075172\n",
      "Train Epoch: 19\tLoss: 0.074773\n",
      "Train Epoch: 20\tLoss: 0.074345\n",
      "54\n",
      "0.9885130373502466\n",
      "Train Epoch: 1\tLoss: 0.231317\n",
      "Train Epoch: 2\tLoss: 0.204835\n",
      "Train Epoch: 3\tLoss: 0.131271\n",
      "Train Epoch: 4\tLoss: 0.078340\n",
      "Train Epoch: 5\tLoss: 0.069335\n",
      "Train Epoch: 6\tLoss: 0.067990\n",
      "Train Epoch: 7\tLoss: 0.067486\n",
      "Train Epoch: 8\tLoss: 0.067144\n",
      "Train Epoch: 9\tLoss: 0.066892\n",
      "Train Epoch: 10\tLoss: 0.066690\n",
      "Train Epoch: 11\tLoss: 0.066525\n",
      "Train Epoch: 12\tLoss: 0.066378\n",
      "Train Epoch: 13\tLoss: 0.066241\n",
      "Train Epoch: 14\tLoss: 0.066091\n",
      "Train Epoch: 15\tLoss: 0.065930\n",
      "Train Epoch: 16\tLoss: 0.065763\n",
      "Train Epoch: 17\tLoss: 0.065578\n",
      "Train Epoch: 18\tLoss: 0.065392\n",
      "Train Epoch: 19\tLoss: 0.065185\n",
      "Train Epoch: 20\tLoss: 0.064957\n",
      "54\n",
      "0.9769086210946677\n",
      "Train Epoch: 1\tLoss: 0.201737\n",
      "Train Epoch: 2\tLoss: 0.180340\n",
      "Train Epoch: 3\tLoss: 0.121317\n",
      "Train Epoch: 4\tLoss: 0.075135\n",
      "Train Epoch: 5\tLoss: 0.065086\n",
      "Train Epoch: 6\tLoss: 0.063040\n",
      "Train Epoch: 7\tLoss: 0.062387\n",
      "Train Epoch: 8\tLoss: 0.062071\n",
      "Train Epoch: 9\tLoss: 0.061821\n",
      "Train Epoch: 10\tLoss: 0.061578\n",
      "Train Epoch: 11\tLoss: 0.061360\n",
      "Train Epoch: 12\tLoss: 0.061194\n",
      "Train Epoch: 13\tLoss: 0.061058\n",
      "Train Epoch: 14\tLoss: 0.060944\n",
      "Train Epoch: 15\tLoss: 0.060829\n",
      "Train Epoch: 16\tLoss: 0.060693\n",
      "Train Epoch: 17\tLoss: 0.060518\n",
      "Train Epoch: 18\tLoss: 0.060305\n",
      "Train Epoch: 19\tLoss: 0.060024\n",
      "Train Epoch: 20\tLoss: 0.059669\n",
      "55\n",
      "0.9998615597600369\n",
      "0.8899324631468308\n"
     ]
    }
   ],
   "source": [
    "aead_aucs = []\n",
    "for train_index, val_index in skf.split(x_train, y_train):\n",
    "    x_train_fold = x_train[train_index]\n",
    "    y_train_fold = y_train[train_index]\n",
    "    x_train_normal = x_train_fold[y_train_fold == 0]\n",
    "    y_train_normal = y_train_fold[y_train_fold == 0]\n",
    "\n",
    "    \n",
    "    x_val_fold = x_train[val_index]\n",
    "    y_val_fold = y_train[val_index]\n",
    "    \n",
    "    x_train_fold = window_min_max(x_train_fold)\n",
    "    x_val_fold = window_min_max(x_val_fold)\n",
    "\n",
    "    aead = AEAD(100,256, 0.0001, 20, 'cpu', Adam).fit(x_train_normal,  y_train_normal)\n",
    "    y_pred_aead = aead.predict(x_val_fold)\n",
    "    val_auc = roc_auc_score(y_val_fold, y_pred_aead)\n",
    "    print(sum(y_val_fold ))\n",
    "    aead_aucs.append(val_auc)\n",
    "    print(val_auc)\n",
    "print(np.mean(aead_aucs))"
   ]
  },
  {
   "cell_type": "markdown",
   "metadata": {},
   "source": [
    "## AE with positive penalty (Fancy cost function)\n",
    "\n",
    "## FANCY COST FUNCTION \n",
    "### (I don't know if this exists already, I thought of it while lazing around the house) I think it was inspired by this paper: https://papers.nips.cc/paper/1998/file/b710915795b9e9c02cf10d6d2bdb688c-Paper.pdf ...maybe...anyway, it goes like this:\n",
    "\n",
    "$\\Delta = \\frac{1}{n}\\sum^{n}_{i=1}(X - \\hat{X})$ => i.e. normal Mean squared error used for standard AEs\n",
    "    \n",
    "- where $n$ is the number of examples, $X$ is the input, $\\hat{X}$.\n",
    "\n",
    "$(1-y)\\Delta - y\\Delta$\n",
    "    \n",
    "- where $y$ is the ground truth binary label. \n",
    "\n",
    "This looks a little similar to binary cross entropy but is not for classification. Basically we penalise the autoencoder for recontructing normal examples well. The algorithms below need thresholds for F1 scores but I'll work that out later. "
   ]
  },
  {
   "cell_type": "code",
   "execution_count": 6,
   "metadata": {},
   "outputs": [
    {
     "ename": "NameError",
     "evalue": "name 'skf' is not defined",
     "output_type": "error",
     "traceback": [
      "\u001b[0;31m---------------------------------------------------------------------------\u001b[0m",
      "\u001b[0;31mNameError\u001b[0m                                 Traceback (most recent call last)",
      "\u001b[0;32m<ipython-input-6-6021743f5824>\u001b[0m in \u001b[0;36m<module>\u001b[0;34m\u001b[0m\n\u001b[1;32m      1\u001b[0m \u001b[0maead_aucs\u001b[0m \u001b[0;34m=\u001b[0m \u001b[0;34m[\u001b[0m\u001b[0;34m]\u001b[0m\u001b[0;34m\u001b[0m\u001b[0;34m\u001b[0m\u001b[0m\n\u001b[0;32m----> 2\u001b[0;31m \u001b[0;32mfor\u001b[0m \u001b[0mtrain_index\u001b[0m\u001b[0;34m,\u001b[0m \u001b[0mval_index\u001b[0m \u001b[0;32min\u001b[0m \u001b[0mskf\u001b[0m\u001b[0;34m.\u001b[0m\u001b[0msplit\u001b[0m\u001b[0;34m(\u001b[0m\u001b[0mx_train\u001b[0m\u001b[0;34m,\u001b[0m \u001b[0my_train\u001b[0m\u001b[0;34m)\u001b[0m\u001b[0;34m:\u001b[0m\u001b[0;34m\u001b[0m\u001b[0;34m\u001b[0m\u001b[0m\n\u001b[0m\u001b[1;32m      3\u001b[0m     \u001b[0mx_train_fold\u001b[0m \u001b[0;34m=\u001b[0m \u001b[0mx_train\u001b[0m\u001b[0;34m[\u001b[0m\u001b[0mtrain_index\u001b[0m\u001b[0;34m]\u001b[0m\u001b[0;34m\u001b[0m\u001b[0;34m\u001b[0m\u001b[0m\n\u001b[1;32m      4\u001b[0m     \u001b[0my_train_fold\u001b[0m \u001b[0;34m=\u001b[0m \u001b[0my_train\u001b[0m\u001b[0;34m[\u001b[0m\u001b[0mtrain_index\u001b[0m\u001b[0;34m]\u001b[0m\u001b[0;34m\u001b[0m\u001b[0;34m\u001b[0m\u001b[0m\n\u001b[1;32m      5\u001b[0m \u001b[0;34m\u001b[0m\u001b[0m\n",
      "\u001b[0;31mNameError\u001b[0m: name 'skf' is not defined"
     ]
    }
   ],
   "source": [
    "aead_aucs = []\n",
    "for train_index, val_index in skf.split(x_train, y_train):\n",
    "    x_train_fold = x_train[train_index]\n",
    "    y_train_fold = y_train[train_index]\n",
    "    \n",
    "    x_val_fold = x_train[val_index]\n",
    "    y_val_fold = y_train[val_index]\n",
    "    \n",
    "    aead = AEAD(1,256, 0.0001, 20, 'cpu', Adam, normal_only=False).fit(x_train_fold,  y_train_fold)\n",
    "    y_pred_train_aead = aead.predict(x_val_fold)\n",
    "    y_pred_train_aead_normal = y_pred_train_aead[y_train_fold==0]\n",
    "    threshold = np.mean(y_pred_train_aead_normal)\n",
    "    y_pred_aead = aead.predict(x_train_fold)\n",
    "    val_auc = roc_auc_score(y_val_fold, y_pred_aead)\n",
    "    print(sum(y_val_fold ))\n",
    "    aead_aucs.append(val_auc)\n",
    "    print(val_auc)\n",
    "print(np.mean(aead_aucs))"
   ]
  },
  {
   "cell_type": "code",
   "execution_count": null,
   "metadata": {},
   "outputs": [],
   "source": []
  }
 ],
 "metadata": {
  "kernelspec": {
   "display_name": "Python 3",
   "language": "python",
   "name": "python3"
  },
  "language_info": {
   "codemirror_mode": {
    "name": "ipython",
    "version": 3
   },
   "file_extension": ".py",
   "mimetype": "text/x-python",
   "name": "python",
   "nbconvert_exporter": "python",
   "pygments_lexer": "ipython3",
   "version": "3.8.2"
  },
  "toc": {
   "base_numbering": 1,
   "nav_menu": {},
   "number_sections": true,
   "sideBar": true,
   "skip_h1_title": false,
   "title_cell": "Table of Contents",
   "title_sidebar": "Contents",
   "toc_cell": false,
   "toc_position": {},
   "toc_section_display": true,
   "toc_window_display": false
  },
  "varInspector": {
   "cols": {
    "lenName": 16,
    "lenType": 16,
    "lenVar": 40
   },
   "kernels_config": {
    "python": {
     "delete_cmd_postfix": "",
     "delete_cmd_prefix": "del ",
     "library": "var_list.py",
     "varRefreshCmd": "print(var_dic_list())"
    },
    "r": {
     "delete_cmd_postfix": ") ",
     "delete_cmd_prefix": "rm(",
     "library": "var_list.r",
     "varRefreshCmd": "cat(var_dic_list()) "
    }
   },
   "types_to_exclude": [
    "module",
    "function",
    "builtin_function_or_method",
    "instance",
    "_Feature"
   ],
   "window_display": false
  }
 },
 "nbformat": 4,
 "nbformat_minor": 4
}
